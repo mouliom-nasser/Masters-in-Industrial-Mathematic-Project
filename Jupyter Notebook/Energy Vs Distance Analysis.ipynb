{
 "cells": [
  {
   "cell_type": "code",
   "execution_count": 675,
   "metadata": {},
   "outputs": [],
   "source": [
    "# Import required  libraries\n",
    "import numpy as np\n",
    "\n",
    "import matplotlib.pyplot as plt\n",
    "from sklearn.datasets import make_blobs\n",
    "import pandas as pd\n",
    "import matplotlib.pyplot as plt\n",
    "%matplotlib inline\n",
    "from IPython.display import display\n",
    "import datetime\n",
    "import time\n",
    "import math\n",
    "import warnings\n",
    "warnings.filterwarnings(\"ignore\")\n",
    "import glob\n",
    "from sklearn.cluster import KMeans\n",
    "from sklearn.preprocessing import MinMaxScaler\n",
    "import pandas as pd\n",
    "import numpy as np\n",
    "from sklearn.metrics import accuracy_score, confusion_matrix\n",
    "from sklearn.model_selection import cross_val_score\n",
    "from sklearn.model_selection import cross_val_predict"
   ]
  },
  {
   "cell_type": "markdown",
   "metadata": {},
   "source": [
    "# Generating 100,000 points with standard deviation 0.1"
   ]
  },
  {
   "cell_type": "code",
   "execution_count": 676,
   "metadata": {},
   "outputs": [
    {
     "data": {
      "text/plain": [
       "(array([[ 2.65628585,  4.95693818],\n",
       "        [ 2.80571664,  4.83488467],\n",
       "        [ 0.02770039, -5.45897094],\n",
       "        ...,\n",
       "        [-0.10414075, -5.34981447],\n",
       "        [-0.11700664, -5.41944211],\n",
       "        [ 5.58644381, -9.56379395]]), array([1, 1, 2, ..., 2, 2, 0]))"
      ]
     },
     "execution_count": 676,
     "metadata": {},
     "output_type": "execute_result"
    }
   ],
   "source": [
    "#Generate 2d data randomly with 3 clusters\n",
    "\n",
    "number_of_point = 100000\n",
    "dataset = make_blobs(n_samples = number_of_point, \n",
    "                    centers = 3, \n",
    "                    n_features= 2 , \n",
    "                    cluster_std=0.1,#Generate first dataset with standard deviation 0.1\n",
    "                     shuffle=True,\n",
    "                    random_state=10)\n",
    "dataset"
   ]
  },
  {
   "cell_type": "code",
   "execution_count": null,
   "metadata": {},
   "outputs": [],
   "source": []
  },
  {
   "cell_type": "markdown",
   "metadata": {},
   "source": [
    "# Fitting our KMean model"
   ]
  },
  {
   "cell_type": "code",
   "execution_count": 677,
   "metadata": {},
   "outputs": [
    {
     "data": {
      "text/plain": [
       "KMeans(algorithm='auto', copy_x=True, init='k-means++', max_iter=1000,\n",
       "       n_clusters=3, n_init=10, n_jobs=None, precompute_distances='auto',\n",
       "       random_state=0, tol=0.0001, verbose=0)"
      ]
     },
     "execution_count": 677,
     "metadata": {},
     "output_type": "execute_result"
    }
   ],
   "source": [
    "K_mean =KMeans(n_clusters=3, max_iter=1000,verbose=0, init='k-means++', random_state=0)\n",
    "K_mean"
   ]
  },
  {
   "cell_type": "code",
   "execution_count": null,
   "metadata": {},
   "outputs": [],
   "source": []
  },
  {
   "cell_type": "code",
   "execution_count": 678,
   "metadata": {},
   "outputs": [
    {
     "data": {
      "text/plain": [
       "KMeans(algorithm='auto', copy_x=True, init='k-means++', max_iter=1000,\n",
       "       n_clusters=3, n_init=10, n_jobs=None, precompute_distances='auto',\n",
       "       random_state=0, tol=0.0001, verbose=0)"
      ]
     },
     "execution_count": 678,
     "metadata": {},
     "output_type": "execute_result"
    }
   ],
   "source": [
    "K_mean.fit(dataset[0])"
   ]
  },
  {
   "cell_type": "code",
   "execution_count": null,
   "metadata": {},
   "outputs": [],
   "source": []
  },
  {
   "cell_type": "code",
   "execution_count": 679,
   "metadata": {},
   "outputs": [],
   "source": [
    "y_km =K_mean.fit_predict(dataset[0])"
   ]
  },
  {
   "cell_type": "markdown",
   "metadata": {},
   "source": [
    "# Generating the centers"
   ]
  },
  {
   "cell_type": "code",
   "execution_count": 680,
   "metadata": {},
   "outputs": [
    {
     "data": {
      "text/plain": [
       "array([[-0.02997894, -5.50376437],\n",
       "       [ 2.67217722,  4.97512159],\n",
       "       [ 5.42626818, -9.58472808]])"
      ]
     },
     "execution_count": 680,
     "metadata": {},
     "output_type": "execute_result"
    }
   ],
   "source": [
    "clusters = K_mean.cluster_centers_\n",
    "clusters"
   ]
  },
  {
   "cell_type": "markdown",
   "metadata": {},
   "source": [
    "# Assign  the right cluster center to the right cluster and compute the transmission energy for this dataset."
   ]
  },
  {
   "cell_type": "code",
   "execution_count": 681,
   "metadata": {},
   "outputs": [
    {
     "data": {
      "image/png": "[encoded data removed]",
      "text/plain": [
       "<Figure size 432x288 with 1 Axes>"
      ]
     },
     "metadata": {
      "needs_background": "light"
     },
     "output_type": "display_data"
    }
   ],
   "source": [
    "#plotting all clusters with centroids\n",
    "plt.scatter(dataset[0][y_km== 0,0], dataset[0][y_km== 0,1], s=50, color='red')\n",
    "plt.scatter(dataset[0][y_km== 1,0], dataset[0][y_km== 1,1], s=50, color='blue')\n",
    "plt.scatter(dataset[0][y_km== 2,0], dataset[0][y_km== 2,1], s=50, color='yellow')\n",
    "#plt.scatter(dataset[0][y_km== 3,0], dataset[0][y_km== 3,1], s=50, color='green')\n",
    "\n",
    "plt.scatter(clusters[0][0], clusters[0][1], marker='*', s=200, color='black')\n",
    "plt.scatter(clusters[1][0], clusters[1][1], marker='*', s=200, color='black')\n",
    "plt.scatter(clusters[2][0], clusters[2][1], marker='*', s=200, color='black')\n",
    "#plt.scatter(clusters[3][0], clusters[3][1], marker='*', s=200, color='black')\n",
    "plt.show()\n"
   ]
  },
  {
   "cell_type": "code",
   "execution_count": null,
   "metadata": {},
   "outputs": [],
   "source": []
  },
  {
   "cell_type": "code",
   "execution_count": null,
   "metadata": {},
   "outputs": [],
   "source": []
  },
  {
   "cell_type": "code",
   "execution_count": 682,
   "metadata": {},
   "outputs": [
    {
     "name": "stdout",
     "output_type": "stream",
     "text": [
      "The corresponding cluster centers to the labels [0, 1, 2] are [2, 1, 0] .\n"
     ]
    }
   ],
   "source": [
    "##### =================================================================================\n",
    "##### =================================================================================\n",
    "##### LOOKING FOR THE ASSIGNMENTS #####\n",
    "e=[]\n",
    "f=np.zeros(len(clusters))\n",
    "h_assign  =[]\n",
    "h_cluster =[]\n",
    "A = np.zeros((len(clusters), len(clusters)))\n",
    "labels = np.arange(0,len(clusters))\n",
    "\n",
    "for i in range(len(clusters)):\n",
    "    x = clusters[i][0] \n",
    "    y= clusters[i][1]\n",
    "    for z in range(len(clusters)):\n",
    "        for j in range(len(dataset[1])): \n",
    "            if dataset[1][j] == labels[z] : \n",
    "                l = np.sqrt((x - dataset[0][j][0])**2 + ((y - dataset[0][j][1])**2))\n",
    "                e.append(l)\n",
    "        f[z] = np.mean(e)\n",
    "        #print(f)\n",
    "        e=[]\n",
    "    A[i,:]=f\n",
    "\n",
    "for i in range(len(A)):\n",
    "    h_cluster.append(i)                                      # label\n",
    "    h_assign.append(np.where(A[i,:]==min(A[i,:]))[0][0])     # corresponding cluster\n",
    "\n",
    "print(\"The corresponding cluster centers to the labels\", h_cluster, \"are\", h_assign,\".\")"
   ]
  },
  {
   "cell_type": "code",
   "execution_count": null,
   "metadata": {},
   "outputs": [],
   "source": []
  },
  {
   "cell_type": "markdown",
   "metadata": {},
   "source": [
    "# Energy transmission function"
   ]
  },
  {
   "cell_type": "code",
   "execution_count": 683,
   "metadata": {},
   "outputs": [],
   "source": [
    "\n",
    "def energy(clusters,numb,dataset):\n",
    "    p= 0.4659868018701797# Frequency of transmission\n",
    "    e =[]\n",
    "    energ=0\n",
    "    elec = 5e-8     #E_{elec}\n",
    "    epsfs= 1e-11  #\\epsilon_{fs}\n",
    "    epsamp = 1.3e-15  #\\epsilon_{amp}\n",
    "    d0 = 10  #d_{0}\n",
    "    l= 0\n",
    "    distance=0\n",
    "    l=0\n",
    "    y = 0\n",
    "    x= 0\n",
    "    l = 0\n",
    "    mean_dist= []\n",
    "    e= []\n",
    "#Compute the distance from each source node to the cetroid of the cluster whioch is the fog\n",
    "    for i in range(len(clusters)): # i represent the class. W iterate over the cluster centers \n",
    "            x = clusters[i][0] # takes  value of x for line i\n",
    "            y= clusters[i][1] # Takes value of y for line i\n",
    "            for j in range(len(dataset[1])): # Iterate over number the of points of my dataset\n",
    "                if dataset[1][j] ==h_assign[i] : #Test if the jth elt of dxy is equal to the class i of the cluster\n",
    "                    l = np.sqrt((x - dataset[0][j][0])**2 + # the first zero selects all the 1st elts of my dataset, j select the line, 0 selects x\n",
    "                               ((y - dataset[0][j][1])**2))#the first zero selects all the 1st elts of my dataset, j select the line, 1 selects y\n",
    "                    \n",
    "                    e.append(l)\n",
    "                        \n",
    "                l=0\n",
    "\n",
    "            mean_dist.append(np.mean(e))\n",
    "            e = []\n",
    "            #print(mean_dist)\n",
    "            distance = np.mean(mean_dist)# Here we have the mean distance from source nodes in a given cluster  to the fog \n",
    "#Conditions in the energy equation implemetation\n",
    "            if distance < d0 : \n",
    "                energ= p/numb*(elec + epsfs*distance**2)\n",
    "            else:\n",
    "                energ= p/numb*(elec + epsamp*distance**4)\n",
    "                energ\n",
    "                l=0\n",
    "    return energ\n",
    "\n",
    "def energy_data(num_cluster,dataset,clusters):\n",
    "    total_energy = []\n",
    "    l= 0\n",
    "    e=[]\n",
    "    for i in range (1,numb_cluster+1):\n",
    "        K_mean =KMeans(n_clusters=i, \n",
    "                       max_iter=1000,\n",
    "                       verbose=0, init='k-means++')\n",
    "        model = K_mean.fit(dataset[0])\n",
    "        clusters = K_mean.cluster_centers_ #Generates the coordinates of the centroids \n",
    "        l = energy(clusters, i,dataset)\n",
    "        e.append(i)\n",
    "        e.append(l)\n",
    "        total_energy.append(e)\n",
    "        l = 0\n",
    "        e=[]\n",
    "    return total_energy\n",
    "\n"
   ]
  },
  {
   "cell_type": "code",
   "execution_count": null,
   "metadata": {},
   "outputs": [],
   "source": []
  },
  {
   "cell_type": "code",
   "execution_count": 684,
   "metadata": {},
   "outputs": [
    {
     "data": {
      "text/plain": [
       "[[1, 2.3355041911599075e-08],\n",
       " [2, 1.1656941433262009e-08],\n",
       " [3, 7.769212543257476e-09]]"
      ]
     },
     "execution_count": 684,
     "metadata": {},
     "output_type": "execute_result"
    }
   ],
   "source": [
    "ty=[]\n",
    "numb_cluster = 3 #Initializing the number of clusters\n",
    "ty=energy_data(numb_cluster,dataset,clusters)\n",
    "ty"
   ]
  },
  {
   "cell_type": "code",
   "execution_count": 685,
   "metadata": {},
   "outputs": [
    {
     "data": {
      "text/plain": [
       "([1, 2, 3], [23.355041911599077, 11.65694143326201, 7.769212543257476])"
      ]
     },
     "execution_count": 685,
     "metadata": {},
     "output_type": "execute_result"
    }
   ],
   "source": [
    "#Here we store the energy computed  in y an the corresponding number of clusters in x to generate a plot.\n",
    "k=len(ty)\n",
    "p=[]\n",
    "q=[]\n",
    "for i in range(k):\n",
    "    p.append(ty[i][0])\n",
    "    q.append(ty[i][1]*1e9)\n",
    "#plot(total_energy[:][])\n",
    "p,q"
   ]
  },
  {
   "cell_type": "code",
   "execution_count": 686,
   "metadata": {},
   "outputs": [
    {
     "data": {
      "image/png": "[encoded data removed]",
      "text/plain": [
       "<Figure size 432x288 with 1 Axes>"
      ]
     },
     "metadata": {
      "needs_background": "light"
     },
     "output_type": "display_data"
    }
   ],
   "source": [
    "plt.plot(p,q, marker = 'o')\n",
    "#plt.plot(r,s, marker = 'o')\n",
    "#plt.plot(t,u, marker = 'o')\n",
    "plt.show()"
   ]
  },
  {
   "cell_type": "code",
   "execution_count": null,
   "metadata": {},
   "outputs": [],
   "source": []
  },
  {
   "cell_type": "code",
   "execution_count": null,
   "metadata": {},
   "outputs": [],
   "source": []
  },
  {
   "cell_type": "code",
   "execution_count": null,
   "metadata": {},
   "outputs": [],
   "source": []
  },
  {
   "cell_type": "markdown",
   "metadata": {},
   "source": [
    "\n",
    "# Generating dataset 2 with 100,000 points with standard deviation 20 and compute the transmission energy."
   ]
  },
  {
   "cell_type": "code",
   "execution_count": 687,
   "metadata": {},
   "outputs": [
    {
     "data": {
      "text/plain": [
       "(array([[ -0.66280479,   1.14818339],\n",
       "        [ 29.22335395, -23.26251772],\n",
       "        [ 11.4821689 ,   3.51516234],\n",
       "        ...,\n",
       "        [-14.886058  ,  25.34645754],\n",
       "        [-17.45923661,  11.42092808],\n",
       "        [ 37.43260165,  -5.35154799]]), array([1, 1, 2, ..., 2, 2, 0]))"
      ]
     },
     "execution_count": 687,
     "metadata": {},
     "output_type": "execute_result"
    }
   ],
   "source": [
    "#Generate 2d data randomly with 3 clusters\n",
    "\n",
    "number_of_point = 100000\n",
    "\n",
    "dataset1 = make_blobs(n_samples = number_of_point, \n",
    "                    centers = 3, \n",
    "                    n_features= 2 , \n",
    "                    cluster_std=20,#Generate first dataset with standard deviation 0.1\n",
    "                     shuffle=True,\n",
    "                    random_state=10)\n",
    "dataset1"
   ]
  },
  {
   "cell_type": "code",
   "execution_count": 688,
   "metadata": {},
   "outputs": [
    {
     "data": {
      "text/plain": [
       "KMeans(algorithm='auto', copy_x=True, init='k-means++', max_iter=1000,\n",
       "       n_clusters=3, n_init=10, n_jobs=None, precompute_distances='auto',\n",
       "       random_state=0, tol=0.0001, verbose=0)"
      ]
     },
     "execution_count": 688,
     "metadata": {},
     "output_type": "execute_result"
    }
   ],
   "source": [
    "K_mean =KMeans(n_clusters=3, max_iter=1000,verbose=0, init='k-means++', random_state=0)\n",
    "K_mean"
   ]
  },
  {
   "cell_type": "code",
   "execution_count": 689,
   "metadata": {},
   "outputs": [
    {
     "data": {
      "text/plain": [
       "KMeans(algorithm='auto', copy_x=True, init='k-means++', max_iter=1000,\n",
       "       n_clusters=3, n_init=10, n_jobs=None, precompute_distances='auto',\n",
       "       random_state=0, tol=0.0001, verbose=0)"
      ]
     },
     "execution_count": 689,
     "metadata": {},
     "output_type": "execute_result"
    }
   ],
   "source": [
    "K_mean.fit(dataset1[0])"
   ]
  },
  {
   "cell_type": "code",
   "execution_count": 690,
   "metadata": {},
   "outputs": [
    {
     "data": {
      "text/plain": [
       "array([[ 18.68479479, -17.42089536],\n",
       "       [  5.79154556,  17.777267  ],\n",
       "       [-17.01007622, -11.09981982]])"
      ]
     },
     "execution_count": 690,
     "metadata": {},
     "output_type": "execute_result"
    }
   ],
   "source": [
    "clusters1 = K_mean.cluster_centers_\n",
    "clusters1"
   ]
  },
  {
   "cell_type": "code",
   "execution_count": 691,
   "metadata": {},
   "outputs": [],
   "source": [
    "y_km =K_mean.fit_predict(dataset1[0])"
   ]
  },
  {
   "cell_type": "code",
   "execution_count": null,
   "metadata": {},
   "outputs": [],
   "source": []
  },
  {
   "cell_type": "code",
   "execution_count": 692,
   "metadata": {},
   "outputs": [
    {
     "data": {
      "image/png": "[encoded data removed]",
      "text/plain": [
       "<Figure size 432x288 with 1 Axes>"
      ]
     },
     "metadata": {
      "needs_background": "light"
     },
     "output_type": "display_data"
    }
   ],
   "source": [
    "#plotting all clusters with centroids\n",
    "plt.scatter(dataset1[0][y_km== 0,0], dataset1[0][y_km== 0,1], s=50, color='red')\n",
    "plt.scatter(dataset1[0][y_km== 1,0], dataset1[0][y_km== 1,1], s=50, color='blue')\n",
    "plt.scatter(dataset1[0][y_km== 2,0], dataset1[0][y_km== 2,1], s=50, color='yellow')\n",
    "#plt.scatter(dataset[0][y_km== 3,0], dataset[0][y_km== 3,1], s=50, color='green')\n",
    "\n",
    "plt.scatter(clusters1[0][0], clusters1[0][1], marker='*', s=200, color='black')\n",
    "plt.scatter(clusters1[1][0], clusters1[1][1], marker='*', s=200, color='black')\n",
    "plt.scatter(clusters1[2][0], clusters1[2][1], marker='*', s=200, color='black')\n",
    "#plt.scatter(clusters[3][0], clusters[3][1], marker='*', s=200, color='black')\n",
    "plt.show()\n"
   ]
  },
  {
   "cell_type": "code",
   "execution_count": 693,
   "metadata": {},
   "outputs": [
    {
     "name": "stdout",
     "output_type": "stream",
     "text": [
      "The corresponding cluster centers to the labels [0, 1, 2] are [0, 1, 2] .\n"
     ]
    }
   ],
   "source": [
    "##### =================================================================================\n",
    "##### =================================================================================\n",
    "##### LOOKING FOR THE ASSIGNMENTS #####\n",
    "e=[]\n",
    "f=np.zeros(len(clusters1))\n",
    "h_assign  =[]\n",
    "h_cluster =[]\n",
    "A = np.zeros((len(clusters1), len(clusters1)))\n",
    "labels = np.arange(0,len(clusters1))\n",
    "\n",
    "for i in range(len(clusters1)):\n",
    "    x = clusters1[i][0] \n",
    "    y= clusters1[i][1]\n",
    "    for z in range(len(clusters1)):\n",
    "        for j in range(len(dataset1[1])): \n",
    "            if dataset1[1][j] == labels[z] : \n",
    "                l = np.sqrt((x - dataset1[0][j][0])**2 + ((y - dataset1[0][j][1])**2))\n",
    "                e.append(l)\n",
    "        f[z] = np.mean(e)\n",
    "        #print(f)\n",
    "        e=[]\n",
    "    A[i,:]=f\n",
    "\n",
    "for i in range(len(A)):\n",
    "    h_cluster.append(i)                                      # label\n",
    "    h_assign.append(np.where(A[i,:]==min(A[i,:]))[0][0])     # corresponding cluster\n",
    "\n",
    "print(\"The corresponding cluster centers to the labels\", h_cluster, \"are\", h_assign,\".\")"
   ]
  },
  {
   "cell_type": "code",
   "execution_count": null,
   "metadata": {},
   "outputs": [],
   "source": []
  },
  {
   "cell_type": "code",
   "execution_count": 694,
   "metadata": {},
   "outputs": [],
   "source": [
    "\n",
    "def energy(clusters,numb,dataset):\n",
    "    p= 0.4659868018701797# Frequency of transmission\n",
    "    e =[]\n",
    "    energ=0\n",
    "    elec = 5e-8     #E_{elec}\n",
    "    epsfs= 1e-11  #\\epsilon_{fs}\n",
    "    epsamp = 1.3e-15  #\\epsilon_{amp}\n",
    "    d0 = 10  #d_{0}\n",
    "    l= 0\n",
    "    distance=0\n",
    "    l=0\n",
    "    y = 0\n",
    "    x= 0\n",
    "    l = 0\n",
    "    mean_dist= []\n",
    "    e= []\n",
    "#Compute the distance from each source node to the cetroid of the cluster whioch is the fog\n",
    "    for i in range(len(clusters)): # i represent the class. W iterate over the cluster centers \n",
    "            x = clusters[i][0] # takes  value of x for line i\n",
    "            y= clusters[i][1] # Takes value of y for line i\n",
    "            for j in range(len(dataset[1])): # Iterate over number the of points of my dataset\n",
    "                if dataset[1][j] ==h_assign[i] : #Test if the jth elt of dxy is equal to the class i of the cluster\n",
    "                    l = np.sqrt((x - dataset[0][j][0])**2 + # the first zero selects all the 1st elts of my dataset, j select the line, 0 selects x\n",
    "                               ((y - dataset[0][j][1])**2))#the first zero selects all the 1st elts of my dataset, j select the line, 1 selects y\n",
    "                    \n",
    "                    e.append(l)\n",
    "                        \n",
    "                l=0\n",
    "\n",
    "            mean_dist.append(np.mean(e))\n",
    "            e = []\n",
    "            #print(mean_dist)\n",
    "            distance = np.mean(mean_dist)# Here we have the mean distance from source nodes in a given cluster  to the fog \n",
    "#Conditions in the energy equation implemetation\n",
    "            if distance < d0 : \n",
    "                energ= p/numb*(elec + epsfs*distance**2)\n",
    "            else:\n",
    "                energ= p/numb*(elec + epsamp*distance**4)\n",
    "                energ\n",
    "                l=0\n",
    "    return energ\n",
    "\n",
    "def energy_data(num_cluster,dataset,clusters):\n",
    "    total_energy = []\n",
    "    l= 0\n",
    "    e=[]\n",
    "    for i in range (1,numb_cluster+1):\n",
    "        K_mean =KMeans(n_clusters=i, \n",
    "                       max_iter=1000,\n",
    "                       verbose=0, init='k-means++')\n",
    "        model = K_mean.fit(dataset[0])\n",
    "        clusters = K_mean.cluster_centers_ #Generates the coordinates of the centroids \n",
    "        l = energy(clusters, i,dataset)\n",
    "        e.append(i)\n",
    "        e.append(l)\n",
    "        total_energy.append(e)\n",
    "        l = 0\n",
    "        e=[]\n",
    "    return total_energy\n",
    "\n"
   ]
  },
  {
   "cell_type": "code",
   "execution_count": null,
   "metadata": {},
   "outputs": [],
   "source": []
  },
  {
   "cell_type": "code",
   "execution_count": 695,
   "metadata": {},
   "outputs": [
    {
     "data": {
      "text/plain": [
       "[[1, 2.3565828398321805e-08],\n",
       " [2, 1.1797004975886902e-08],\n",
       " [3, 8.02372155879917e-09]]"
      ]
     },
     "execution_count": 695,
     "metadata": {},
     "output_type": "execute_result"
    }
   ],
   "source": [
    "tz=[]\n",
    "numb_cluster = 3 #Initializing the number of clusters\n",
    "tz=energy_data(numb_cluster,dataset1,clusters1)\n",
    "tz"
   ]
  },
  {
   "cell_type": "code",
   "execution_count": null,
   "metadata": {},
   "outputs": [],
   "source": []
  },
  {
   "cell_type": "code",
   "execution_count": 696,
   "metadata": {},
   "outputs": [
    {
     "data": {
      "text/plain": [
       "([1, 2, 3], [23.565828398321806, 11.797004975886903, 8.023721558799169])"
      ]
     },
     "execution_count": 696,
     "metadata": {},
     "output_type": "execute_result"
    }
   ],
   "source": [
    "#Here we store the energy computed  in y an the corresponding number of clusters in x to generate a plot.\n",
    "k=len(tz)\n",
    "r=[]\n",
    "s=[]\n",
    "for i in range(k):\n",
    "    r.append(tz[i][0])\n",
    "    s.append(tz[i][1]*1e9)\n",
    "#plot(total_energy[:][])\n",
    "r,s"
   ]
  },
  {
   "cell_type": "code",
   "execution_count": null,
   "metadata": {},
   "outputs": [],
   "source": []
  },
  {
   "cell_type": "code",
   "execution_count": 722,
   "metadata": {},
   "outputs": [
    {
     "data": {
      "image/png": "[encoded data removed]",
      "text/plain": [
       "<Figure size 432x288 with 1 Axes>"
      ]
     },
     "metadata": {
      "needs_background": "light"
     },
     "output_type": "display_data"
    }
   ],
   "source": [
    "#plt.plot(p,q, marker = 'o')\n",
    "plt.plot(r,s, marker = 'o')\n",
    "#plt.plot(t,u, marker = 'o')\n",
    "plt.show()"
   ]
  },
  {
   "cell_type": "code",
   "execution_count": null,
   "metadata": {},
   "outputs": [],
   "source": []
  },
  {
   "cell_type": "code",
   "execution_count": null,
   "metadata": {},
   "outputs": [],
   "source": []
  },
  {
   "cell_type": "markdown",
   "metadata": {},
   "source": [
    "# Generating dataset3 containing 100,000 points with standard deviation 40 and compute the energy"
   ]
  },
  {
   "cell_type": "code",
   "execution_count": null,
   "metadata": {},
   "outputs": [],
   "source": []
  },
  {
   "cell_type": "code",
   "execution_count": 698,
   "metadata": {},
   "outputs": [
    {
     "data": {
      "text/plain": [
       "(array([[ -3.99857428,  -2.67971087],\n",
       "        [ 55.7737432 , -51.50111309],\n",
       "        [ 22.99419756,  12.53439176],\n",
       "        ...,\n",
       "        [-29.74225625,  56.19698216],\n",
       "        [-34.88861347,  28.34592326],\n",
       "        [ 69.43879044,  -1.11813497]]), array([1, 1, 2, ..., 2, 2, 0]))"
      ]
     },
     "execution_count": 698,
     "metadata": {},
     "output_type": "execute_result"
    }
   ],
   "source": [
    "#Generate 2d data randomly with 3 clusters\n",
    "\n",
    "number_of_point = 100000\n",
    "dataset = make_blobs(n_samples = number_of_point, \n",
    "                    centers = 3, \n",
    "                    n_features= 2 , \n",
    "                    cluster_std=40,#Generate first dataset with standard deviation 0.1\n",
    "                     shuffle=True,\n",
    "                    random_state=10)\n",
    "dataset"
   ]
  },
  {
   "cell_type": "code",
   "execution_count": null,
   "metadata": {},
   "outputs": [],
   "source": []
  },
  {
   "cell_type": "code",
   "execution_count": 699,
   "metadata": {},
   "outputs": [
    {
     "data": {
      "text/plain": [
       "KMeans(algorithm='auto', copy_x=True, init='k-means++', max_iter=1000,\n",
       "       n_clusters=3, n_init=10, n_jobs=None, precompute_distances='auto',\n",
       "       random_state=0, tol=0.0001, verbose=0)"
      ]
     },
     "execution_count": 699,
     "metadata": {},
     "output_type": "execute_result"
    }
   ],
   "source": [
    "K_mean =KMeans(n_clusters=3, max_iter=1000,verbose=0, init='k-means++', random_state=0)\n",
    "K_mean"
   ]
  },
  {
   "cell_type": "code",
   "execution_count": null,
   "metadata": {},
   "outputs": [],
   "source": []
  },
  {
   "cell_type": "code",
   "execution_count": 700,
   "metadata": {},
   "outputs": [
    {
     "data": {
      "text/plain": [
       "KMeans(algorithm='auto', copy_x=True, init='k-means++', max_iter=1000,\n",
       "       n_clusters=3, n_init=10, n_jobs=None, precompute_distances='auto',\n",
       "       random_state=0, tol=0.0001, verbose=0)"
      ]
     },
     "execution_count": 700,
     "metadata": {},
     "output_type": "execute_result"
    }
   ],
   "source": [
    "K_mean.fit(dataset[0])"
   ]
  },
  {
   "cell_type": "code",
   "execution_count": null,
   "metadata": {},
   "outputs": [],
   "source": []
  },
  {
   "cell_type": "code",
   "execution_count": 701,
   "metadata": {},
   "outputs": [
    {
     "data": {
      "text/plain": [
       "array([[-33.92307407, -24.09044949],\n",
       "       [ 38.1472602 , -24.5158388 ],\n",
       "       [  2.8354701 ,  38.40246956]])"
      ]
     },
     "execution_count": 701,
     "metadata": {},
     "output_type": "execute_result"
    }
   ],
   "source": [
    "clusters = K_mean.cluster_centers_\n",
    "clusters"
   ]
  },
  {
   "cell_type": "code",
   "execution_count": null,
   "metadata": {},
   "outputs": [],
   "source": []
  },
  {
   "cell_type": "code",
   "execution_count": 702,
   "metadata": {},
   "outputs": [],
   "source": [
    "y_km =K_mean.fit_predict(dataset[0])"
   ]
  },
  {
   "cell_type": "code",
   "execution_count": null,
   "metadata": {},
   "outputs": [],
   "source": []
  },
  {
   "cell_type": "code",
   "execution_count": 703,
   "metadata": {},
   "outputs": [
    {
     "data": {
      "image/png": "[encoded data removed]",
      "text/plain": [
       "<Figure size 432x288 with 1 Axes>"
      ]
     },
     "metadata": {
      "needs_background": "light"
     },
     "output_type": "display_data"
    }
   ],
   "source": [
    "#plotting all clusters with centroids\n",
    "plt.scatter(dataset[0][y_km== 0,0], dataset[0][y_km== 0,1], s=50, color='red')\n",
    "plt.scatter(dataset[0][y_km== 1,0], dataset[0][y_km== 1,1], s=50, color='blue')\n",
    "plt.scatter(dataset[0][y_km== 2,0], dataset[0][y_km== 2,1], s=50, color='yellow')\n",
    "#plt.scatter(dataset[0][y_km== 3,0], dataset[0][y_km== 3,1], s=50, color='green')\n",
    "\n",
    "plt.scatter(clusters[0][0], clusters[0][1], marker='*', s=200, color='black')\n",
    "plt.scatter(clusters[1][0], clusters[1][1], marker='*', s=200, color='black')\n",
    "plt.scatter(clusters[2][0], clusters[2][1], marker='*', s=200, color='black')\n",
    "#plt.scatter(clusters[3][0], clusters[3][1], marker='*', s=200, color='black')\n",
    "plt.show()\n"
   ]
  },
  {
   "cell_type": "code",
   "execution_count": null,
   "metadata": {},
   "outputs": [],
   "source": []
  },
  {
   "cell_type": "code",
   "execution_count": 704,
   "metadata": {},
   "outputs": [
    {
     "name": "stdout",
     "output_type": "stream",
     "text": [
      "The corresponding cluster centers to the labels [0, 1, 2] are [2, 0, 1] .\n"
     ]
    }
   ],
   "source": [
    "##### =================================================================================\n",
    "##### =================================================================================\n",
    "##### LOOKING FOR THE ASSIGNMENTS #####\n",
    "e=[]\n",
    "f=np.zeros(len(clusters))\n",
    "h_assign  =[]\n",
    "h_cluster =[]\n",
    "A = np.zeros((len(clusters), len(clusters)))\n",
    "labels = np.arange(0,len(clusters))\n",
    "\n",
    "for i in range(len(clusters)):\n",
    "    x = clusters[i][0] \n",
    "    y= clusters[i][1]\n",
    "    for z in range(len(clusters)):\n",
    "        for j in range(len(dataset[1])): \n",
    "            if dataset[1][j] == labels[z] : \n",
    "                l = np.sqrt((x - dataset[0][j][0])**2 + ((y - dataset[0][j][1])**2))\n",
    "                e.append(l)\n",
    "        f[z] = np.mean(e)\n",
    "        #print(f)\n",
    "        e=[]\n",
    "    A[i,:]=f\n",
    "\n",
    "for i in range(len(A)):\n",
    "    h_cluster.append(i)                                      # label\n",
    "    h_assign.append(np.where(A[i,:]==min(A[i,:]))[0][0])     # corresponding cluster\n",
    "\n",
    "print(\"The corresponding cluster centers to the labels\", h_cluster, \"are\", h_assign,\".\")"
   ]
  },
  {
   "cell_type": "code",
   "execution_count": null,
   "metadata": {},
   "outputs": [],
   "source": []
  },
  {
   "cell_type": "code",
   "execution_count": 705,
   "metadata": {},
   "outputs": [],
   "source": [
    "\n",
    "def energy(clusters,numb,dataset):\n",
    "    p= 0.4659868018701797# Frequency of transmission\n",
    "    e =[]\n",
    "    energ=0\n",
    "    elec = 5e-8     #E_{elec}\n",
    "    epsfs= 1e-11  #\\epsilon_{fs}\n",
    "    epsamp = 1.3e-15  #\\epsilon_{amp}\n",
    "    d0 = 10  #d_{0}\n",
    "    l= 0\n",
    "    distance=0\n",
    "    l=0\n",
    "    y = 0\n",
    "    x= 0\n",
    "    l = 0\n",
    "    mean_dist= []\n",
    "    e= []\n",
    "#Compute the distance from each source node to the cetroid of the cluster whioch is the fog\n",
    "    for i in range(len(clusters)): # i represent the class. W iterate over the cluster centers \n",
    "            x = clusters[i][0] # takes  value of x for line i\n",
    "            y= clusters[i][1] # Takes value of y for line i\n",
    "            for j in range(len(dataset[1])): # Iterate over number the of points of my dataset\n",
    "                if dataset[1][j] ==h_assign[i] : #Test if the jth elt of dxy is equal to the class i of the cluster\n",
    "                    l = np.sqrt((x - dataset[0][j][0])**2 + # the first zero selects all the 1st elts of my dataset, j select the line, 0 selects x\n",
    "                               ((y - dataset[0][j][1])**2))#the first zero selects all the 1st elts of my dataset, j select the line, 1 selects y\n",
    "                    \n",
    "                    e.append(l)\n",
    "                        \n",
    "                l=0\n",
    "\n",
    "            mean_dist.append(np.mean(e))\n",
    "            e = []\n",
    "            #print(mean_dist)\n",
    "            distance = np.mean(mean_dist)# Here we have the mean distance from source nodes in a given cluster  to the fog \n",
    "#Conditions in the energy equation implemetation\n",
    "            if distance < d0 : \n",
    "                energ= p/numb*(elec + epsfs*distance**2)\n",
    "            else:\n",
    "                energ= p/numb*(elec + epsamp*distance**4)\n",
    "                energ\n",
    "                l=0\n",
    "    return energ\n",
    "\n",
    "def energy_data(num_cluster,dataset,clusters):\n",
    "    total_energy = []\n",
    "    l= 0\n",
    "    e=[]\n",
    "    for i in range (1,numb_cluster+1):\n",
    "        K_mean =KMeans(n_clusters=i, \n",
    "                       max_iter=1000,\n",
    "                       verbose=0, init='k-means++')\n",
    "        model = K_mean.fit(dataset[0])\n",
    "        clusters = K_mean.cluster_centers_ #Generates the coordinates of the centroids \n",
    "        l = energy(clusters, i,dataset)\n",
    "        e.append(i)\n",
    "        e.append(l)\n",
    "        total_energy.append(e)\n",
    "        l = 0\n",
    "        e=[]\n",
    "    return total_energy\n",
    "\n"
   ]
  },
  {
   "cell_type": "code",
   "execution_count": null,
   "metadata": {},
   "outputs": [],
   "source": []
  },
  {
   "cell_type": "code",
   "execution_count": 706,
   "metadata": {},
   "outputs": [
    {
     "data": {
      "text/plain": [
       "[[1, 2.7144127986499052e-08],\n",
       " [2, 1.4971070469102494e-08],\n",
       " [3, 1.1192040285802737e-08]]"
      ]
     },
     "execution_count": 706,
     "metadata": {},
     "output_type": "execute_result"
    }
   ],
   "source": [
    "tw=[]\n",
    "numb_cluster = 3 #Initializing the number of clusters\n",
    "tw=energy_data(numb_cluster,dataset,clusters)\n",
    "tw"
   ]
  },
  {
   "cell_type": "code",
   "execution_count": null,
   "metadata": {},
   "outputs": [],
   "source": []
  },
  {
   "cell_type": "code",
   "execution_count": 707,
   "metadata": {},
   "outputs": [
    {
     "data": {
      "text/plain": [
       "([1, 2, 3], [27.14412798649905, 14.971070469102495, 11.192040285802737])"
      ]
     },
     "execution_count": 707,
     "metadata": {},
     "output_type": "execute_result"
    }
   ],
   "source": [
    "#Here we store the energy computed  in y an the corresponding number of clusters in x to generate a plot.\n",
    "k=len(tw)\n",
    "t=[]\n",
    "u=[]\n",
    "for i in range(k):\n",
    "    t.append(tw[i][0])\n",
    "    u.append(tw[i][1]*1e9)\n",
    "#plot(total_energy[:][])\n",
    "t,u"
   ]
  },
  {
   "cell_type": "code",
   "execution_count": null,
   "metadata": {},
   "outputs": [],
   "source": []
  },
  {
   "cell_type": "code",
   "execution_count": 708,
   "metadata": {},
   "outputs": [
    {
     "data": {
      "image/png": "[encoded data removed]",
      "text/plain": [
       "<Figure size 432x288 with 1 Axes>"
      ]
     },
     "metadata": {
      "needs_background": "light"
     },
     "output_type": "display_data"
    }
   ],
   "source": [
    "#plt.plot(p,q, marker = 'o',label='dataset1: 100000')\n",
    "#plt.plot(r,s, marker = 'o', label='dataset2: 10000')\n",
    "plt.plot(t,u, marker = 'o', label='dataset3: 1000')\n",
    "#plt.legend()\n",
    "plt.show()"
   ]
  },
  {
   "cell_type": "code",
   "execution_count": null,
   "metadata": {},
   "outputs": [],
   "source": []
  },
  {
   "cell_type": "markdown",
   "metadata": {},
   "source": []
  },
  {
   "cell_type": "code",
   "execution_count": null,
   "metadata": {},
   "outputs": [],
   "source": []
  },
  {
   "cell_type": "markdown",
   "metadata": {},
   "source": [
    "# Generating dataset4 with standard deviation 60 and compute the energy"
   ]
  },
  {
   "cell_type": "code",
   "execution_count": 730,
   "metadata": {},
   "outputs": [
    {
     "data": {
      "text/plain": [
       "(array([[ -7.33434377,  -6.50760513],\n",
       "        [ 82.32413246, -79.73970847],\n",
       "        [ 34.50622622,  21.55362119],\n",
       "        ...,\n",
       "        [-44.59845449,  87.04750679],\n",
       "        [-52.31799033,  45.27091843],\n",
       "        [101.44497922,   3.11527805]]), array([1, 1, 2, ..., 2, 2, 0]))"
      ]
     },
     "execution_count": 730,
     "metadata": {},
     "output_type": "execute_result"
    }
   ],
   "source": [
    "#Generate 2d data randomly with 3 clusters\n",
    "\n",
    "number_of_point = 100000\n",
    "dataset = make_blobs(n_samples = number_of_point, \n",
    "                    centers = 3, \n",
    "                    n_features= 2 , \n",
    "                    cluster_std=60,#Generate first dataset with standard deviation 0.1\n",
    "                     shuffle=True,\n",
    "                    random_state=10)\n",
    "dataset"
   ]
  },
  {
   "cell_type": "code",
   "execution_count": 731,
   "metadata": {},
   "outputs": [
    {
     "data": {
      "text/plain": [
       "KMeans(algorithm='auto', copy_x=True, init='k-means++', max_iter=1000,\n",
       "       n_clusters=3, n_init=10, n_jobs=None, precompute_distances='auto',\n",
       "       random_state=0, tol=0.0001, verbose=0)"
      ]
     },
     "execution_count": 731,
     "metadata": {},
     "output_type": "execute_result"
    }
   ],
   "source": [
    "K_mean =KMeans(n_clusters=3, max_iter=1000,verbose=0, init='k-means++', random_state=0)\n",
    "K_mean"
   ]
  },
  {
   "cell_type": "code",
   "execution_count": null,
   "metadata": {},
   "outputs": [],
   "source": []
  },
  {
   "cell_type": "code",
   "execution_count": 732,
   "metadata": {},
   "outputs": [
    {
     "data": {
      "text/plain": [
       "KMeans(algorithm='auto', copy_x=True, init='k-means++', max_iter=1000,\n",
       "       n_clusters=3, n_init=10, n_jobs=None, precompute_distances='auto',\n",
       "       random_state=0, tol=0.0001, verbose=0)"
      ]
     },
     "execution_count": 732,
     "metadata": {},
     "output_type": "execute_result"
    }
   ],
   "source": [
    "K_mean.fit(dataset[0])"
   ]
  },
  {
   "cell_type": "code",
   "execution_count": null,
   "metadata": {},
   "outputs": [],
   "source": []
  },
  {
   "cell_type": "code",
   "execution_count": 733,
   "metadata": {},
   "outputs": [
    {
     "data": {
      "text/plain": [
       "array([[ 55.06562383, -36.13864639],\n",
       "       [-52.93212547, -32.7649326 ],\n",
       "       [  4.63508089,  58.91060269]])"
      ]
     },
     "execution_count": 733,
     "metadata": {},
     "output_type": "execute_result"
    }
   ],
   "source": [
    "clusters = K_mean.cluster_centers_\n",
    "clusters"
   ]
  },
  {
   "cell_type": "code",
   "execution_count": 734,
   "metadata": {},
   "outputs": [],
   "source": [
    "y_km =K_mean.fit_predict(dataset[0])"
   ]
  },
  {
   "cell_type": "code",
   "execution_count": null,
   "metadata": {},
   "outputs": [],
   "source": []
  },
  {
   "cell_type": "code",
   "execution_count": 735,
   "metadata": {},
   "outputs": [
    {
     "data": {
      "image/png": "[encoded data removed]",
      "text/plain": [
       "<Figure size 432x288 with 1 Axes>"
      ]
     },
     "metadata": {
      "needs_background": "light"
     },
     "output_type": "display_data"
    }
   ],
   "source": [
    "#plotting all clusters with centroids\n",
    "plt.scatter(dataset[0][y_km== 0,0], dataset[0][y_km== 0,1], s=50, color='red')\n",
    "plt.scatter(dataset[0][y_km== 1,0], dataset[0][y_km== 1,1], s=50, color='blue')\n",
    "plt.scatter(dataset[0][y_km== 2,0], dataset[0][y_km== 2,1], s=50, color='yellow')\n",
    "#plt.scatter(dataset[0][y_km== 3,0], dataset[0][y_km== 3,1], s=50, color='green')\n",
    "\n",
    "plt.scatter(clusters[0][0], clusters[0][1], marker='*', s=200, color='black')\n",
    "plt.scatter(clusters[1][0], clusters[1][1], marker='*', s=200, color='black')\n",
    "plt.scatter(clusters[2][0], clusters[2][1], marker='*', s=200, color='black')\n",
    "#plt.scatter(clusters[3][0], clusters[3][1], marker='*', s=200, color='black')\n",
    "plt.show()\n"
   ]
  },
  {
   "cell_type": "code",
   "execution_count": null,
   "metadata": {},
   "outputs": [],
   "source": []
  },
  {
   "cell_type": "code",
   "execution_count": 736,
   "metadata": {},
   "outputs": [
    {
     "name": "stdout",
     "output_type": "stream",
     "text": [
      "The corresponding cluster centers to the labels [0, 1, 2] are [0, 2, 1] .\n"
     ]
    }
   ],
   "source": [
    "##### =================================================================================\n",
    "##### =================================================================================\n",
    "##### LOOKING FOR THE ASSIGNMENTS #####\n",
    "e=[]\n",
    "f=np.zeros(len(clusters))\n",
    "h_assign  =[]\n",
    "h_cluster =[]\n",
    "A = np.zeros((len(clusters), len(clusters)))\n",
    "labels = np.arange(0,len(clusters))\n",
    "\n",
    "for i in range(len(clusters)):\n",
    "    x = clusters[i][0] \n",
    "    y= clusters[i][1]\n",
    "    for z in range(len(clusters)):\n",
    "        for j in range(len(dataset[1])): \n",
    "            if dataset[1][j] == labels[z] : \n",
    "                l = np.sqrt((x - dataset[0][j][0])**2 + ((y - dataset[0][j][1])**2))\n",
    "                e.append(l)\n",
    "        f[z] = np.mean(e)\n",
    "        #print(f)\n",
    "        e=[]\n",
    "    A[i,:]=f\n",
    "\n",
    "for i in range(len(A)):\n",
    "    h_cluster.append(i)                                      # label\n",
    "    h_assign.append(np.where(A[i,:]==min(A[i,:]))[0][0])     # corresponding cluster\n",
    "\n",
    "print(\"The corresponding cluster centers to the labels\", h_cluster, \"are\", h_assign,\".\")"
   ]
  },
  {
   "cell_type": "code",
   "execution_count": null,
   "metadata": {},
   "outputs": [],
   "source": []
  },
  {
   "cell_type": "code",
   "execution_count": null,
   "metadata": {},
   "outputs": [],
   "source": []
  },
  {
   "cell_type": "code",
   "execution_count": 737,
   "metadata": {},
   "outputs": [],
   "source": [
    "\n",
    "def energy(clusters,numb,dataset):\n",
    "    p= 0.4659868018701797# Frequency of transmission\n",
    "    e =[]\n",
    "    energ=0\n",
    "    elec = 5e-8     #E_{elec}\n",
    "    epsfs= 1e-11  #\\epsilon_{fs}\n",
    "    epsamp = 1.3e-15  #\\epsilon_{amp}\n",
    "    d0 = 10  #d_{0}\n",
    "    l= 0\n",
    "    distance=0\n",
    "    l=0\n",
    "    y = 0\n",
    "    x= 0\n",
    "    l = 0\n",
    "    mean_dist= []\n",
    "    e= []\n",
    "#Compute the distance from each source node to the cetroid of the cluster whioch is the fog\n",
    "    for i in range(len(clusters)): # i represent the class. W iterate over the cluster centers \n",
    "            x = clusters[i][0] # takes  value of x for line i\n",
    "            y= clusters[i][1] # Takes value of y for line i\n",
    "            for j in range(len(dataset[1])): # Iterate over number the of points of my dataset\n",
    "                if dataset[1][j] ==h_assign[i] : #Test if the jth elt of dxy is equal to the class i of the cluster\n",
    "                    l = np.sqrt((x - dataset[0][j][0])**2 + # the first zero selects all the 1st elts of my dataset, j select the line, 0 selects x\n",
    "                               ((y - dataset[0][j][1])**2))#the first zero selects all the 1st elts of my dataset, j select the line, 1 selects y\n",
    "                    \n",
    "                    e.append(l)\n",
    "                        \n",
    "                l=0\n",
    "\n",
    "            mean_dist.append(np.mean(e))\n",
    "            e = []\n",
    "            #print(mean_dist)\n",
    "            distance = np.mean(mean_dist)# Here we have the mean distance from source nodes in a given cluster  to the fog \n",
    "#Conditions in the energy equation implemetation\n",
    "            if distance < d0 : \n",
    "                energ= p/numb*(elec + epsfs*distance**2)\n",
    "            else:\n",
    "                energ= p/numb*(elec + epsamp*distance**4)\n",
    "                energ\n",
    "                l=0\n",
    "    return energ\n",
    "\n",
    "def energy_data(num_cluster,dataset,clusters):\n",
    "    total_energy = []\n",
    "    l= 0\n",
    "    e=[]\n",
    "    for i in range (1,numb_cluster+1):\n",
    "        K_mean =KMeans(n_clusters=i, \n",
    "                       max_iter=1000,\n",
    "                       verbose=0, init='k-means++')\n",
    "        model = K_mean.fit(dataset[0])\n",
    "        clusters = K_mean.cluster_centers_ #Generates the coordinates of the centroids \n",
    "        l = energy(clusters, i,dataset)\n",
    "        e.append(i)\n",
    "        e.append(l)\n",
    "        total_energy.append(e)\n",
    "        l = 0\n",
    "        e=[]\n",
    "    return total_energy\n",
    "\n"
   ]
  },
  {
   "cell_type": "code",
   "execution_count": null,
   "metadata": {},
   "outputs": [],
   "source": []
  },
  {
   "cell_type": "code",
   "execution_count": 738,
   "metadata": {},
   "outputs": [
    {
     "data": {
      "text/plain": [
       "[[1, 4.283089593715013e-08],\n",
       " [2, 2.8165718097801202e-08],\n",
       " [3, 2.1689638597333436e-08]]"
      ]
     },
     "execution_count": 738,
     "metadata": {},
     "output_type": "execute_result"
    }
   ],
   "source": [
    "tu=[]\n",
    "numb_cluster = 3 #Initializing the number of clusters\n",
    "tu=energy_data(numb_cluster,dataset,clusters)\n",
    "tu"
   ]
  },
  {
   "cell_type": "code",
   "execution_count": null,
   "metadata": {},
   "outputs": [],
   "source": []
  },
  {
   "cell_type": "code",
   "execution_count": 739,
   "metadata": {},
   "outputs": [
    {
     "data": {
      "text/plain": [
       "([1, 2, 3], [42.83089593715013, 28.1657180978012, 21.689638597333435])"
      ]
     },
     "execution_count": 739,
     "metadata": {},
     "output_type": "execute_result"
    }
   ],
   "source": [
    "#Here we store the energy computed  in y an the corresponding number of clusters in x to generate a plot.\n",
    "k=len(tu)\n",
    "v=[]\n",
    "w=[]\n",
    "for i in range(k):\n",
    "    v.append(tu[i][0])\n",
    "    w.append(tu[i][1]*1e9)\n",
    "#plot(total_energy[:][])\n",
    "v,w"
   ]
  },
  {
   "cell_type": "code",
   "execution_count": 740,
   "metadata": {},
   "outputs": [
    {
     "data": {
      "text/plain": [
       "[<matplotlib.lines.Line2D at 0x7f16c8ef7490>]"
      ]
     },
     "execution_count": 740,
     "metadata": {},
     "output_type": "execute_result"
    },
    {
     "data": {
      "image/png": "[encoded data removed]",
      "text/plain": [
       "<Figure size 432x288 with 1 Axes>"
      ]
     },
     "metadata": {
      "needs_background": "light"
     },
     "output_type": "display_data"
    }
   ],
   "source": [
    "plt.plot(v,w, marker = 'o',label='dataset1: 100000')"
   ]
  },
  {
   "cell_type": "code",
   "execution_count": 741,
   "metadata": {},
   "outputs": [
    {
     "data": {
      "image/png": "[encoded data removed]",
      "text/plain": [
       "<Figure size 432x288 with 1 Axes>"
      ]
     },
     "metadata": {
      "needs_background": "light"
     },
     "output_type": "display_data"
    }
   ],
   "source": [
    "plt.plot(p,q, marker = 'o', label='dataset1: STD 0.1')\n",
    "plt.plot(r,s, marker = 'o', label='dataset2:STD 20')\n",
    "plt.plot(t,u, marker = 'o', label='dataset3:STD 40')\n",
    "plt.plot(v,w, marker = 'o',label='dataset4: STD 60')\n",
    "plt.legend()\n",
    "plt.show()"
   ]
  },
  {
   "cell_type": "markdown",
   "metadata": {},
   "source": [
    "# From the graph above, we can see that increasing the standard deviation of the points increases the energy consumption of the network. I.e a sparsely distributed network consume more energy than a densely distributed network"
   ]
  },
  {
   "cell_type": "code",
   "execution_count": null,
   "metadata": {},
   "outputs": [],
   "source": []
  },
  {
   "cell_type": "code",
   "execution_count": null,
   "metadata": {},
   "outputs": [],
   "source": []
  },
  {
   "cell_type": "markdown",
   "metadata": {},
   "source": [
    "# Varying the number of data  points, there was no significant difference in transmission energy with respect to the different number of data points as we can see in the plot below."
   ]
  },
  {
   "cell_type": "code",
   "execution_count": 674,
   "metadata": {},
   "outputs": [
    {
     "data": {
      "image/png": "[encoded data removed]",
      "text/plain": [
       "<Figure size 432x288 with 1 Axes>"
      ]
     },
     "metadata": {
      "needs_background": "light"
     },
     "output_type": "display_data"
    }
   ],
   "source": [
    "plt.plot(p,q, marker = 'o', label='dataset1: 100000')\n",
    "plt.plot(r,s, marker = 'o', label='dataset1: 10000')\n",
    "plt.plot(t,u, marker = 'o', label='dataset1: 1000')\n",
    "plt.plot(v,w, marker = 'o',label='dataset1: 100')\n",
    "plt.legend()\n",
    "plt.show()"
   ]
  },
  {
   "cell_type": "code",
   "execution_count": null,
   "metadata": {},
   "outputs": [],
   "source": []
  },
  {
   "cell_type": "markdown",
   "metadata": {},
   "source": [
    "# We faced some challenges  to include an area constraint on the data generation. I could not add that restriction in my code without generating complete different set of data. Since all my simulation was done on this datset I decided to vary the standard deeviation which measures ther dispersion of ther dataset relative to its mean. In our code, the higher the standard deviation, the more spread the dataset to incorporate the notion of density distribution."
   ]
  },
  {
   "cell_type": "code",
   "execution_count": null,
   "metadata": {},
   "outputs": [],
   "source": []
  },
  {
   "cell_type": "code",
   "execution_count": null,
   "metadata": {},
   "outputs": [],
   "source": []
  },
  {
   "cell_type": "code",
   "execution_count": null,
   "metadata": {},
   "outputs": [],
   "source": []
  },
  {
   "cell_type": "code",
   "execution_count": null,
   "metadata": {},
   "outputs": [],
   "source": []
  },
  {
   "cell_type": "code",
   "execution_count": null,
   "metadata": {},
   "outputs": [],
   "source": []
  },
  {
   "cell_type": "code",
   "execution_count": null,
   "metadata": {},
   "outputs": [],
   "source": []
  },
  {
   "cell_type": "code",
   "execution_count": null,
   "metadata": {},
   "outputs": [],
   "source": []
  },
  {
   "cell_type": "code",
   "execution_count": null,
   "metadata": {},
   "outputs": [],
   "source": []
  },
  {
   "cell_type": "code",
   "execution_count": null,
   "metadata": {},
   "outputs": [],
   "source": []
  },
  {
   "cell_type": "code",
   "execution_count": null,
   "metadata": {},
   "outputs": [],
   "source": []
  },
  {
   "cell_type": "code",
   "execution_count": null,
   "metadata": {},
   "outputs": [],
   "source": []
  },
  {
   "cell_type": "code",
   "execution_count": null,
   "metadata": {},
   "outputs": [],
   "source": []
  },
  {
   "cell_type": "code",
   "execution_count": null,
   "metadata": {},
   "outputs": [],
   "source": []
  },
  {
   "cell_type": "code",
   "execution_count": null,
   "metadata": {},
   "outputs": [],
   "source": []
  },
  {
   "cell_type": "code",
   "execution_count": null,
   "metadata": {},
   "outputs": [],
   "source": []
  },
  {
   "cell_type": "code",
   "execution_count": null,
   "metadata": {},
   "outputs": [],
   "source": []
  }
 ],
 "metadata": {
  "kernelspec": {
   "display_name": "Python 3",
   "language": "python",
   "name": "python3"
  },
  "language_info": {
   "codemirror_mode": {
    "name": "ipython",
    "version": 3
   },
   "file_extension": ".py",
   "mimetype": "text/x-python",
   "name": "python",
   "nbconvert_exporter": "python",
   "pygments_lexer": "ipython3",
   "version": "3.7.4"
  }
 },
 "nbformat": 4,
 "nbformat_minor": 2
}
