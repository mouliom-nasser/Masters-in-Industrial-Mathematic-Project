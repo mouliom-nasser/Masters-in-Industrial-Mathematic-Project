{
  "nbformat": 4,
  "nbformat_minor": 0,
  "metadata": {
    "kernelspec": {
      "display_name": "Python 3",
      "language": "python",
      "name": "python3"
    },
    "language_info": {
      "codemirror_mode": {
        "name": "ipython",
        "version": 3
      },
      "file_extension": ".py",
      "mimetype": "text/x-python",
      "name": "python",
      "nbconvert_exporter": "python",
      "pygments_lexer": "ipython3",
      "version": "3.7.4"
    },
    "colab": {
      "name": "Clustring_Using_KMeans_Algorithm.ipynb",
      "provenance": []
    }
  },
  "cells": [
    {
      "cell_type": "code",
      "metadata": {
        "id": "suFQ86xoxTZ-"
      },
      "source": [
        "# Import required  libraries\n",
        "import numpy as np\n",
        "import matplotlib.pyplot as plt\n",
        "from sklearn.datasets import make_blobs\n",
        "import pandas as pd\n",
        "import matplotlib.pyplot as plt\n",
        "%matplotlib inline\n",
        "from IPython.display import display\n",
        "import datetime\n",
        "import time\n",
        "import math\n",
        "import warnings\n",
        "warnings.filterwarnings(\"ignore\")\n",
        "import glob\n",
        "from sklearn.cluster import KMeans\n",
        "from sklearn.preprocessing import MinMaxScaler\n",
        "import pandas as pd\n",
        "import numpy as np\n",
        "from sklearn.metrics import accuracy_score, confusion_matrix\n",
        "from sklearn.model_selection import cross_val_score\n",
        "from sklearn.model_selection import cross_val_predict"
      ],
      "execution_count": null,
      "outputs": []
    },
    {
      "cell_type": "code",
      "metadata": {
        "id": "r9RGb7TExTaF",
        "outputId": "1feb586c-0388-446e-b31e-ac656ccec299"
      },
      "source": [
        "#Generate 2d data randomly with 3 clusters\n",
        "\n",
        "number_of_point = 100000\n",
        "dataset = make_blobs(n_samples = number_of_point, \n",
        "                    centers = 3, \n",
        "                    n_features= 2 , \n",
        "                    cluster_std=2,\n",
        "                     shuffle=True,\n",
        "                    random_state=10)\n",
        "dataset"
      ],
      "execution_count": null,
      "outputs": [
        {
          "data": {
            "text/plain": [
              "(array([[ 2.33938775,  4.59328822],\n",
              "        [ 5.32800362,  2.15221811],\n",
              "        [ 1.12134311, -4.60214415],\n",
              "        ...,\n",
              "        [-1.51547958, -2.41901463],\n",
              "        [-1.77279744, -3.81156757],\n",
              "        [ 8.62703174, -9.16161971]]), array([1, 1, 2, ..., 2, 2, 0]))"
            ]
          },
          "execution_count": 167,
          "metadata": {},
          "output_type": "execute_result"
        }
      ]
    },
    {
      "cell_type": "markdown",
      "metadata": {
        "id": "Ebg1_IKXxTaK"
      },
      "source": [
        "   ###  In the block above, we generated 100,000 points with 3 clusters, 2features(x,y) with class (dxy) which represent the cluster to  which the data point belong. We have shuffled the data so that they are random."
      ]
    },
    {
      "cell_type": "code",
      "metadata": {
        "scrolled": true,
        "id": "_XMLiQz1xTaM",
        "outputId": "fecf5abd-47df-40ce-cb0e-5261a673b079"
      },
      "source": [
        "plt.plot(dataset[1][0:100],'o')"
      ],
      "execution_count": null,
      "outputs": [
        {
          "data": {
            "text/plain": [
              "[<matplotlib.lines.Line2D at 0x7ff1aea616d0>]"
            ]
          },
          "execution_count": 168,
          "metadata": {},
          "output_type": "execute_result"
        },
        {
          "data": {
            "image/png": "[encoded data removed]",
            "text/plain": [
              "<Figure size 432x288 with 1 Axes>"
            ]
          },
          "metadata": {
            "needs_background": "light"
          },
          "output_type": "display_data"
        }
      ]
    },
    {
      "cell_type": "markdown",
      "metadata": {
        "id": "MQx9alZixTaO"
      },
      "source": [
        "### In the block above, we try to visualize the three classes to see how data points are distributed among the three classes and we see that they are balanced. In the following block, we then try to see the distribution ratio for each class."
      ]
    },
    {
      "cell_type": "code",
      "metadata": {
        "id": "c4z1AJkDxTaP",
        "outputId": "2049f673-50bd-4693-fbde-0ee5f8c7f44d"
      },
      "source": [
        "group1=0\n",
        "group2=0\n",
        "group3=0\n",
        "\n",
        "for i in range(len(dataset[1])):\n",
        "    if(dataset[1][i]==0):\n",
        "        group1=group1+1\n",
        "    elif(dataset[1][i]==1):\n",
        "        group2=group2+1\n",
        "    elif(dataset[1][i]==2):\n",
        "        group3=group3+1\n",
        "print(\"Ratio 1st group is\", group1/len(dataset[1]))\n",
        "print(\"Ratio 2nd group is\", group2/len(dataset[1]))\n",
        "print(\"Ratio 3rd group is\", group3/len(dataset[1]))"
      ],
      "execution_count": null,
      "outputs": [
        {
          "name": "stdout",
          "output_type": "stream",
          "text": [
            "Ratio 1st group is 0.33334\n",
            "Ratio 2nd group is 0.33333\n",
            "Ratio 3rd group is 0.33333\n"
          ]
        }
      ]
    },
    {
      "cell_type": "markdown",
      "metadata": {
        "id": "IrHwRMFNxTaR"
      },
      "source": [
        ""
      ]
    },
    {
      "cell_type": "code",
      "metadata": {
        "id": "eiNj1sUjxTaS",
        "outputId": "4e42a4d0-198f-441b-9dd1-57def2b00aa9"
      },
      "source": [
        "# Working with just the two first columns\n",
        "point = dataset[0]\n",
        "point"
      ],
      "execution_count": null,
      "outputs": [
        {
          "data": {
            "text/plain": [
              "array([[ 2.33938775,  4.59328822],\n",
              "       [ 5.32800362,  2.15221811],\n",
              "       [ 1.12134311, -4.60214415],\n",
              "       ...,\n",
              "       [-1.51547958, -2.41901463],\n",
              "       [-1.77279744, -3.81156757],\n",
              "       [ 8.62703174, -9.16161971]])"
            ]
          },
          "execution_count": 170,
          "metadata": {},
          "output_type": "execute_result"
        }
      ]
    },
    {
      "cell_type": "code",
      "metadata": {
        "id": "7khb6thCxTaU"
      },
      "source": [
        ""
      ],
      "execution_count": null,
      "outputs": []
    },
    {
      "cell_type": "code",
      "metadata": {
        "id": "2r-qJT-KxTaX",
        "outputId": "f99d629d-ffb6-4f6c-eb04-53e5ad2cba16"
      },
      "source": [
        "# We assign the class or labels to point1\n",
        "point1 = dataset[1]\n",
        "point1"
      ],
      "execution_count": null,
      "outputs": [
        {
          "data": {
            "text/plain": [
              "array([1, 1, 2, ..., 2, 2, 0])"
            ]
          },
          "execution_count": 171,
          "metadata": {},
          "output_type": "execute_result"
        }
      ]
    },
    {
      "cell_type": "markdown",
      "metadata": {
        "id": "75mTOTn1xTaY"
      },
      "source": [
        "### In the following blocks,  f the e put our data into a data frame with x,y representing the data points and dxy representing the class of the data points."
      ]
    },
    {
      "cell_type": "code",
      "metadata": {
        "id": "EzX52doSxTaZ"
      },
      "source": [
        "x = []\n",
        "for i in range(number_of_point ):\n",
        "    x.append(dataset[0][i][0])\n",
        "x = np.array(x)"
      ],
      "execution_count": null,
      "outputs": []
    },
    {
      "cell_type": "code",
      "metadata": {
        "id": "OK5CtpYVxTaZ"
      },
      "source": [
        "y = []\n",
        "for i in range(number_of_point ):\n",
        "    y.append(dataset[0][i][1])\n",
        "y=np.array(y)"
      ],
      "execution_count": null,
      "outputs": []
    },
    {
      "cell_type": "code",
      "metadata": {
        "id": "0eJQviBYxTaa"
      },
      "source": [
        "dxy = []\n",
        "for i in range(number_of_point ):\n",
        "    dxy.append(dataset[1][i])\n",
        "dxy = np.array(dxy)"
      ],
      "execution_count": null,
      "outputs": []
    },
    {
      "cell_type": "code",
      "metadata": {
        "id": "YhyRrqW-xTaa"
      },
      "source": [
        "pf = {'x':x,\n",
        "     'y': y, \n",
        "     'dxy': dxy}"
      ],
      "execution_count": null,
      "outputs": []
    },
    {
      "cell_type": "code",
      "metadata": {
        "id": "rpEPPe06xTab",
        "outputId": "42546074-ca3d-4a1b-e253-e61cb36e02d9"
      },
      "source": [
        "df = pd.DataFrame(pf)\n",
        "df"
      ],
      "execution_count": null,
      "outputs": [
        {
          "data": {
            "text/html": [
              "<div>\n",
              "<style scoped>\n",
              "    .dataframe tbody tr th:only-of-type {\n",
              "        vertical-align: middle;\n",
              "    }\n",
              "\n",
              "    .dataframe tbody tr th {\n",
              "        vertical-align: top;\n",
              "    }\n",
              "\n",
              "    .dataframe thead th {\n",
              "        text-align: right;\n",
              "    }\n",
              "</style>\n",
              "<table border=\"1\" class=\"dataframe\">\n",
              "  <thead>\n",
              "    <tr style=\"text-align: right;\">\n",
              "      <th></th>\n",
              "      <th>x</th>\n",
              "      <th>y</th>\n",
              "      <th>dxy</th>\n",
              "    </tr>\n",
              "  </thead>\n",
              "  <tbody>\n",
              "    <tr>\n",
              "      <td>0</td>\n",
              "      <td>2.339388</td>\n",
              "      <td>4.593288</td>\n",
              "      <td>1</td>\n",
              "    </tr>\n",
              "    <tr>\n",
              "      <td>1</td>\n",
              "      <td>5.328004</td>\n",
              "      <td>2.152218</td>\n",
              "      <td>1</td>\n",
              "    </tr>\n",
              "    <tr>\n",
              "      <td>2</td>\n",
              "      <td>1.121343</td>\n",
              "      <td>-4.602144</td>\n",
              "      <td>2</td>\n",
              "    </tr>\n",
              "    <tr>\n",
              "      <td>3</td>\n",
              "      <td>1.370866</td>\n",
              "      <td>-8.461272</td>\n",
              "      <td>2</td>\n",
              "    </tr>\n",
              "    <tr>\n",
              "      <td>4</td>\n",
              "      <td>4.873579</td>\n",
              "      <td>4.966886</td>\n",
              "      <td>1</td>\n",
              "    </tr>\n",
              "    <tr>\n",
              "      <td>...</td>\n",
              "      <td>...</td>\n",
              "      <td>...</td>\n",
              "      <td>...</td>\n",
              "    </tr>\n",
              "    <tr>\n",
              "      <td>99995</td>\n",
              "      <td>4.210955</td>\n",
              "      <td>6.776140</td>\n",
              "      <td>1</td>\n",
              "    </tr>\n",
              "    <tr>\n",
              "      <td>99996</td>\n",
              "      <td>2.032103</td>\n",
              "      <td>7.534173</td>\n",
              "      <td>1</td>\n",
              "    </tr>\n",
              "    <tr>\n",
              "      <td>99997</td>\n",
              "      <td>-1.515480</td>\n",
              "      <td>-2.419015</td>\n",
              "      <td>2</td>\n",
              "    </tr>\n",
              "    <tr>\n",
              "      <td>99998</td>\n",
              "      <td>-1.772797</td>\n",
              "      <td>-3.811568</td>\n",
              "      <td>2</td>\n",
              "    </tr>\n",
              "    <tr>\n",
              "      <td>99999</td>\n",
              "      <td>8.627032</td>\n",
              "      <td>-9.161620</td>\n",
              "      <td>0</td>\n",
              "    </tr>\n",
              "  </tbody>\n",
              "</table>\n",
              "<p>100000 rows × 3 columns</p>\n",
              "</div>"
            ],
            "text/plain": [
              "              x         y  dxy\n",
              "0      2.339388  4.593288    1\n",
              "1      5.328004  2.152218    1\n",
              "2      1.121343 -4.602144    2\n",
              "3      1.370866 -8.461272    2\n",
              "4      4.873579  4.966886    1\n",
              "...         ...       ...  ...\n",
              "99995  4.210955  6.776140    1\n",
              "99996  2.032103  7.534173    1\n",
              "99997 -1.515480 -2.419015    2\n",
              "99998 -1.772797 -3.811568    2\n",
              "99999  8.627032 -9.161620    0\n",
              "\n",
              "[100000 rows x 3 columns]"
            ]
          },
          "execution_count": 176,
          "metadata": {},
          "output_type": "execute_result"
        }
      ]
    },
    {
      "cell_type": "markdown",
      "metadata": {
        "id": "IHcl_thyxTac"
      },
      "source": [
        "### Since we removed the labels, we do not know anymore the number of clusters we have and to which cluster each data point belong, so we fit our KMeans through the unlabelled points and use the ELBOW method to determine the optimal number of clusters. We consider the following curve as an elbow where  the lowest depression represents the optimal number of clusters for our data points which is 3 in this case."
      ]
    },
    {
      "cell_type": "code",
      "metadata": {
        "id": "vK1U2UWJxTad",
        "outputId": "6fb2e177-2062-40b1-a1b7-0535f9d56b5b"
      },
      "source": [
        "# Elbow method to determine the number of clusters in data point\n",
        "wcss = []\n",
        "for i in range(1, 11):\n",
        "    kmeans = KMeans(n_clusters=i, init='k-means++', max_iter=300, n_init=10, random_state=0)\n",
        "    kmeans.fit(point)\n",
        "    wcss.append(kmeans.inertia_)\n",
        "plt.plot(range(1, 11), wcss)\n",
        "plt.title('Elbow Method')\n",
        "plt.xlabel('Number of clusters')\n",
        "plt.ylabel('WCSS')\n",
        "plt.show()"
      ],
      "execution_count": null,
      "outputs": [
        {
          "data": {
            "image/png": "[encoded data removed]",
            "text/plain": [
              "<Figure size 432x288 with 1 Axes>"
            ]
          },
          "metadata": {
            "needs_background": "light"
          },
          "output_type": "display_data"
        }
      ]
    },
    {
      "cell_type": "code",
      "metadata": {
        "id": "LXT0ZAfaxTad",
        "outputId": "0dc2fc8d-3562-49c4-b164-b075ee263714"
      },
      "source": [
        "K_mean =KMeans(n_clusters=3, max_iter=1000,verbose=1 )\n",
        "K_mean"
      ],
      "execution_count": null,
      "outputs": [
        {
          "data": {
            "text/plain": [
              "KMeans(algorithm='auto', copy_x=True, init='k-means++', max_iter=1000,\n",
              "       n_clusters=3, n_init=10, n_jobs=None, precompute_distances='auto',\n",
              "       random_state=None, tol=0.0001, verbose=1)"
            ]
          },
          "execution_count": 178,
          "metadata": {},
          "output_type": "execute_result"
        }
      ]
    },
    {
      "cell_type": "markdown",
      "metadata": {
        "id": "ktzkfXUPxTae"
      },
      "source": [
        "### We now  run our model with the optimal parameter(number of cluster =3) and fit the model through the data points "
      ]
    },
    {
      "cell_type": "code",
      "metadata": {
        "id": "GUUUDXkQxTae",
        "outputId": "02f3ba0f-8cde-4c17-c9a4-e3c9f42e9ca9"
      },
      "source": [
        "model = K_mean.fit(point)\n",
        "model"
      ],
      "execution_count": null,
      "outputs": [
        {
          "name": "stdout",
          "output_type": "stream",
          "text": [
            "Initialization complete\n",
            "start iteration\n",
            "done sorting\n",
            "end inner loop\n",
            "Iteration 0, inertia 786778.2649056112\n",
            "start iteration\n",
            "done sorting\n",
            "end inner loop\n",
            "Iteration 1, inertia 762812.6554220583\n",
            "start iteration\n",
            "done sorting\n",
            "end inner loop\n",
            "Iteration 2, inertia 762578.8405604424\n",
            "center shift 4.721141e-02 within tolerance 2.521179e-03\n",
            "Initialization complete\n",
            "start iteration\n",
            "done sorting\n",
            "end inner loop\n",
            "Iteration 0, inertia 844764.6779293298\n",
            "start iteration\n",
            "done sorting\n",
            "end inner loop\n",
            "Iteration 1, inertia 766296.3218542268\n",
            "start iteration\n",
            "done sorting\n",
            "end inner loop\n",
            "Iteration 2, inertia 762890.609568417\n",
            "start iteration\n",
            "done sorting\n",
            "end inner loop\n",
            "Iteration 3, inertia 762600.642220989\n",
            "start iteration\n",
            "done sorting\n",
            "end inner loop\n",
            "Iteration 4, inertia 762575.5971231343\n",
            "center shift 1.859627e-02 within tolerance 2.521179e-03\n",
            "Initialization complete\n",
            "start iteration\n",
            "done sorting\n",
            "end inner loop\n",
            "Iteration 0, inertia 766490.0687700014\n",
            "start iteration\n",
            "done sorting\n",
            "end inner loop\n",
            "Iteration 1, inertia 763011.9942569883\n",
            "start iteration\n",
            "done sorting\n",
            "end inner loop\n",
            "Iteration 2, inertia 762639.8730917046\n",
            "start iteration\n",
            "done sorting\n",
            "end inner loop\n",
            "Iteration 3, inertia 762585.6240804726\n",
            "center shift 3.059741e-02 within tolerance 2.521179e-03\n",
            "Initialization complete\n",
            "start iteration\n",
            "done sorting\n",
            "end inner loop\n",
            "Iteration 0, inertia 797372.8453352314\n",
            "start iteration\n",
            "done sorting\n",
            "end inner loop\n",
            "Iteration 1, inertia 763774.7175786442\n",
            "start iteration\n",
            "done sorting\n",
            "end inner loop\n",
            "Iteration 2, inertia 762690.7869148427\n",
            "start iteration\n",
            "done sorting\n",
            "end inner loop\n",
            "Iteration 3, inertia 762592.769067178\n",
            "center shift 4.229282e-02 within tolerance 2.521179e-03\n",
            "Initialization complete\n",
            "start iteration\n",
            "done sorting\n",
            "end inner loop\n",
            "Iteration 0, inertia 861296.5440620908\n",
            "start iteration\n",
            "done sorting\n",
            "end inner loop\n",
            "Iteration 1, inertia 771606.1291761289\n",
            "start iteration\n",
            "done sorting\n",
            "end inner loop\n",
            "Iteration 2, inertia 763544.5529633127\n",
            "start iteration\n",
            "done sorting\n",
            "end inner loop\n",
            "Iteration 3, inertia 762698.3154688765\n",
            "start iteration\n",
            "done sorting\n",
            "end inner loop\n",
            "Iteration 4, inertia 762595.3423459161\n",
            "center shift 4.164440e-02 within tolerance 2.521179e-03\n",
            "Initialization complete\n",
            "start iteration\n",
            "done sorting\n",
            "end inner loop\n",
            "Iteration 0, inertia 1120446.4511874856\n",
            "start iteration\n",
            "done sorting\n",
            "end inner loop\n",
            "Iteration 1, inertia 839765.4529774142\n",
            "start iteration\n",
            "done sorting\n",
            "end inner loop\n",
            "Iteration 2, inertia 772772.4167347823\n",
            "start iteration\n",
            "done sorting\n",
            "end inner loop\n",
            "Iteration 3, inertia 763725.0329340523\n",
            "start iteration\n",
            "done sorting\n",
            "end inner loop\n",
            "Iteration 4, inertia 762697.4769806584\n",
            "start iteration\n",
            "done sorting\n",
            "end inner loop\n",
            "Iteration 5, inertia 762584.6974193262\n",
            "center shift 4.049408e-02 within tolerance 2.521179e-03\n",
            "Initialization complete\n",
            "start iteration\n",
            "done sorting\n",
            "end inner loop\n",
            "Iteration 0, inertia 782433.3092090276\n",
            "start iteration\n",
            "done sorting\n",
            "end inner loop\n",
            "Iteration 1, inertia 764115.793532564\n",
            "start iteration\n",
            "done sorting\n",
            "end inner loop\n",
            "Iteration 2, inertia 762748.772032818\n",
            "start iteration\n",
            "done sorting\n",
            "end inner loop\n",
            "Iteration 3, inertia 762600.9926086185\n",
            "center shift 4.984869e-02 within tolerance 2.521179e-03\n",
            "Initialization complete\n",
            "start iteration\n",
            "done sorting\n",
            "end inner loop\n",
            "Iteration 0, inertia 902226.3849288552\n",
            "start iteration\n",
            "done sorting\n",
            "end inner loop\n",
            "Iteration 1, inertia 780555.5578414898\n",
            "start iteration\n",
            "done sorting\n",
            "end inner loop\n",
            "Iteration 2, inertia 764582.8300886689\n",
            "start iteration\n",
            "done sorting\n",
            "end inner loop\n",
            "Iteration 3, inertia 762800.0774310038\n",
            "start iteration\n",
            "done sorting\n",
            "end inner loop\n",
            "Iteration 4, inertia 762608.1812562264\n",
            "start iteration\n",
            "done sorting\n",
            "end inner loop\n",
            "Iteration 5, inertia 762579.6969311549\n",
            "center shift 2.296099e-02 within tolerance 2.521179e-03\n",
            "Initialization complete\n",
            "start iteration\n",
            "done sorting\n",
            "end inner loop\n",
            "Iteration 0, inertia 913497.7608433722\n",
            "start iteration\n",
            "done sorting\n",
            "end inner loop\n",
            "Iteration 1, inertia 766103.797542708\n",
            "start iteration\n",
            "done sorting\n",
            "end inner loop\n",
            "Iteration 2, inertia 762757.7972362962\n",
            "start iteration\n",
            "done sorting\n",
            "end inner loop\n",
            "Iteration 3, inertia 762598.2700050492\n",
            "start iteration\n",
            "done sorting\n",
            "end inner loop\n",
            "Iteration 4, inertia 762578.1551438428\n",
            "center shift 1.923099e-02 within tolerance 2.521179e-03\n",
            "Initialization complete\n",
            "start iteration\n",
            "done sorting\n",
            "end inner loop\n",
            "Iteration 0, inertia 782175.514671016\n",
            "start iteration\n",
            "done sorting\n",
            "end inner loop\n",
            "Iteration 1, inertia 763064.8620161877\n",
            "start iteration\n",
            "done sorting\n",
            "end inner loop\n",
            "Iteration 2, inertia 762615.3746276969\n",
            "start iteration\n",
            "done sorting\n",
            "end inner loop\n",
            "Iteration 3, inertia 762579.7595726992\n",
            "center shift 2.520962e-02 within tolerance 2.521179e-03\n"
          ]
        },
        {
          "data": {
            "text/plain": [
              "KMeans(algorithm='auto', copy_x=True, init='k-means++', max_iter=1000,\n",
              "       n_clusters=3, n_init=10, n_jobs=None, precompute_distances='auto',\n",
              "       random_state=None, tol=0.0001, verbose=1)"
            ]
          },
          "execution_count": 179,
          "metadata": {},
          "output_type": "execute_result"
        }
      ]
    },
    {
      "cell_type": "markdown",
      "metadata": {
        "id": "fJ9sR8vtxTaf"
      },
      "source": [
        "### After fitting our model, we now generated the centroids for our three clusters. The centroids have the coordinates given below"
      ]
    },
    {
      "cell_type": "code",
      "metadata": {
        "id": "y5VukkjsxTaf",
        "outputId": "7e87ec8e-3583-440a-90da-86ed322f1e8d"
      },
      "source": [
        "clusters = K_mean.cluster_centers_\n",
        "clusters"
      ],
      "execution_count": null,
      "outputs": [
        {
          "data": {
            "text/plain": [
              "array([[ 2.65932129,  4.95990695],\n",
              "       [-0.08316134, -5.47042693],\n",
              "       [ 5.49500821, -9.62886726]])"
            ]
          },
          "execution_count": 180,
          "metadata": {},
          "output_type": "execute_result"
        }
      ]
    },
    {
      "cell_type": "markdown",
      "metadata": {
        "id": "hunliALrxTag"
      },
      "source": [
        "### We now try to predict to which cluster belong each data point using our KMean model."
      ]
    },
    {
      "cell_type": "code",
      "metadata": {
        "id": "3cTwpxFzxTag",
        "outputId": "01205322-5b11-49bb-bc76-7d7ca98b7ec5"
      },
      "source": [
        "y_km = K_mean.fit_predict(point)\n",
        "y_km"
      ],
      "execution_count": null,
      "outputs": [
        {
          "name": "stdout",
          "output_type": "stream",
          "text": [
            "Initialization complete\n",
            "start iteration\n",
            "done sorting\n",
            "end inner loop\n",
            "Iteration 0, inertia 848503.1914302766\n",
            "start iteration\n",
            "done sorting\n",
            "end inner loop\n",
            "Iteration 1, inertia 768893.8652062556\n",
            "start iteration\n",
            "done sorting\n",
            "end inner loop\n",
            "Iteration 2, inertia 763275.426169804\n",
            "start iteration\n",
            "done sorting\n",
            "end inner loop\n",
            "Iteration 3, inertia 762671.412438931\n",
            "start iteration\n",
            "done sorting\n",
            "end inner loop\n",
            "Iteration 4, inertia 762590.7879690742\n",
            "center shift 3.680955e-02 within tolerance 2.521179e-03\n",
            "Initialization complete\n",
            "start iteration\n",
            "done sorting\n",
            "end inner loop\n",
            "Iteration 0, inertia 773810.2895602124\n",
            "start iteration\n",
            "done sorting\n",
            "end inner loop\n",
            "Iteration 1, inertia 763112.3822583471\n",
            "start iteration\n",
            "done sorting\n",
            "end inner loop\n",
            "Iteration 2, inertia 762640.4422307333\n",
            "start iteration\n",
            "done sorting\n",
            "end inner loop\n",
            "Iteration 3, inertia 762585.4598106893\n",
            "center shift 3.094690e-02 within tolerance 2.521179e-03\n",
            "Initialization complete\n",
            "start iteration\n",
            "done sorting\n",
            "end inner loop\n",
            "Iteration 0, inertia 897242.9402492053\n",
            "start iteration\n",
            "done sorting\n",
            "end inner loop\n",
            "Iteration 1, inertia 782883.5920205851\n",
            "start iteration\n",
            "done sorting\n",
            "end inner loop\n",
            "Iteration 2, inertia 765007.1770695485\n",
            "start iteration\n",
            "done sorting\n",
            "end inner loop\n",
            "Iteration 3, inertia 762852.9893421723\n",
            "start iteration\n",
            "done sorting\n",
            "end inner loop\n",
            "Iteration 4, inertia 762596.1876986739\n",
            "start iteration\n",
            "done sorting\n",
            "end inner loop\n",
            "Iteration 5, inertia 762574.9573827854\n",
            "center shift 1.793325e-02 within tolerance 2.521179e-03\n",
            "Initialization complete\n",
            "start iteration\n",
            "done sorting\n",
            "end inner loop\n",
            "Iteration 0, inertia 779196.9176775002\n",
            "start iteration\n",
            "done sorting\n",
            "end inner loop\n",
            "Iteration 1, inertia 762960.4852106222\n",
            "start iteration\n",
            "done sorting\n",
            "end inner loop\n",
            "Iteration 2, inertia 762616.0705813156\n",
            "start iteration\n",
            "done sorting\n",
            "end inner loop\n",
            "Iteration 3, inertia 762580.5902798793\n",
            "center shift 2.521961e-02 within tolerance 2.521179e-03\n",
            "Initialization complete\n",
            "start iteration\n",
            "done sorting\n",
            "end inner loop\n",
            "Iteration 0, inertia 1006230.4436262803\n",
            "start iteration\n",
            "done sorting\n",
            "end inner loop\n",
            "Iteration 1, inertia 799381.8371448547\n",
            "start iteration\n",
            "done sorting\n",
            "end inner loop\n",
            "Iteration 2, inertia 767068.2790683014\n",
            "start iteration\n",
            "done sorting\n",
            "end inner loop\n",
            "Iteration 3, inertia 763086.8710551827\n",
            "start iteration\n",
            "done sorting\n",
            "end inner loop\n",
            "Iteration 4, inertia 762645.9472297188\n",
            "start iteration\n",
            "done sorting\n",
            "end inner loop\n",
            "Iteration 5, inertia 762586.2617589633\n",
            "center shift 3.230113e-02 within tolerance 2.521179e-03\n",
            "Initialization complete\n",
            "start iteration\n",
            "done sorting\n",
            "end inner loop\n",
            "Iteration 0, inertia 844783.3436421322\n",
            "start iteration\n",
            "done sorting\n",
            "end inner loop\n",
            "Iteration 1, inertia 770762.3800873221\n",
            "start iteration\n",
            "done sorting\n",
            "end inner loop\n",
            "Iteration 2, inertia 763454.8917359187\n",
            "start iteration\n",
            "done sorting\n",
            "end inner loop\n",
            "Iteration 3, inertia 762691.1731510159\n",
            "start iteration\n",
            "done sorting\n",
            "end inner loop\n",
            "Iteration 4, inertia 762594.1778374289\n",
            "center shift 4.038395e-02 within tolerance 2.521179e-03\n",
            "Initialization complete\n",
            "start iteration\n",
            "done sorting\n",
            "end inner loop\n",
            "Iteration 0, inertia 944650.8292066476\n",
            "start iteration\n",
            "done sorting\n",
            "end inner loop\n",
            "Iteration 1, inertia 790460.5435632708\n",
            "start iteration\n",
            "done sorting\n",
            "end inner loop\n",
            "Iteration 2, inertia 765843.3248519304\n",
            "start iteration\n",
            "done sorting\n",
            "end inner loop\n",
            "Iteration 3, inertia 762932.0363502853\n",
            "start iteration\n",
            "done sorting\n",
            "end inner loop\n",
            "Iteration 4, inertia 762605.3807334987\n",
            "start iteration\n",
            "done sorting\n",
            "end inner loop\n",
            "Iteration 5, inertia 762576.1398647515\n",
            "center shift 2.021825e-02 within tolerance 2.521179e-03\n",
            "Initialization complete\n",
            "start iteration\n",
            "done sorting\n",
            "end inner loop\n",
            "Iteration 0, inertia 771502.4522982596\n",
            "start iteration\n",
            "done sorting\n",
            "end inner loop\n",
            "Iteration 1, inertia 763435.6111086016\n",
            "start iteration\n",
            "done sorting\n",
            "end inner loop\n",
            "Iteration 2, inertia 762686.2986172017\n",
            "start iteration\n",
            "done sorting\n",
            "end inner loop\n",
            "Iteration 3, inertia 762593.6310196305\n",
            "center shift 3.914623e-02 within tolerance 2.521179e-03\n",
            "Initialization complete\n",
            "start iteration\n",
            "done sorting\n",
            "end inner loop\n",
            "Iteration 0, inertia 906121.9331826969\n",
            "start iteration\n",
            "done sorting\n",
            "end inner loop\n",
            "Iteration 1, inertia 765677.2513043341\n",
            "start iteration\n",
            "done sorting\n",
            "end inner loop\n",
            "Iteration 2, inertia 762630.4916480363\n",
            "start iteration\n",
            "done sorting\n",
            "end inner loop\n",
            "Iteration 3, inertia 762573.9960416523\n",
            "center shift 2.307925e-02 within tolerance 2.521179e-03\n",
            "Initialization complete\n",
            "start iteration\n",
            "done sorting\n",
            "end inner loop\n",
            "Iteration 0, inertia 926903.0894009074\n",
            "start iteration\n",
            "done sorting\n",
            "end inner loop\n",
            "Iteration 1, inertia 787305.0079211644\n",
            "start iteration\n",
            "done sorting\n",
            "end inner loop\n",
            "Iteration 2, inertia 765455.7511512819\n",
            "start iteration\n",
            "done sorting\n",
            "end inner loop\n",
            "Iteration 3, inertia 762897.416149783\n",
            "start iteration\n",
            "done sorting\n",
            "end inner loop\n",
            "Iteration 4, inertia 762620.7767718885\n",
            "start iteration\n",
            "done sorting\n",
            "end inner loop\n",
            "Iteration 5, inertia 762582.2697352384\n",
            "center shift 2.614420e-02 within tolerance 2.521179e-03\n"
          ]
        },
        {
          "data": {
            "text/plain": [
              "array([1, 1, 2, ..., 2, 2, 0], dtype=int32)"
            ]
          },
          "execution_count": 181,
          "metadata": {},
          "output_type": "execute_result"
        }
      ]
    },
    {
      "cell_type": "code",
      "metadata": {
        "id": "3XmAeac9xTah",
        "outputId": "b594c419-37ef-4662-b109-a36f56c6d989"
      },
      "source": [
        "# We print the predictions\n",
        "y_km"
      ],
      "execution_count": null,
      "outputs": [
        {
          "data": {
            "text/plain": [
              "array([1, 1, 2, ..., 2, 2, 0], dtype=int32)"
            ]
          },
          "execution_count": 182,
          "metadata": {},
          "output_type": "execute_result"
        }
      ]
    },
    {
      "cell_type": "markdown",
      "metadata": {
        "id": "1ObIq6m6xTah"
      },
      "source": [
        "###  In the following block, we display our data points arranged in clusters  with respect to the prediction done with our model and we print the centoids of the different clusters in the center of each clusters of data."
      ]
    },
    {
      "cell_type": "code",
      "metadata": {
        "id": "4lSsegxoxTah",
        "outputId": "6796ab80-5e0a-47e9-a24e-c84b31e07de3"
      },
      "source": [
        "#plotting all clusters with centroids\n",
        "plt.scatter(point[y_km== 0,0], point[y_km== 0,1], s=50, color='red')\n",
        "plt.scatter(point[y_km== 1,0], point[y_km== 1,1], s=50, color='blue')\n",
        "plt.scatter(point[y_km== 2,0], point[y_km== 2,1], s=50, color='yellow')\n",
        "\n",
        "\n",
        "plt.scatter(clusters[0][0], clusters[0][1], marker='*', s=200, color='black')\n",
        "plt.scatter(clusters[1][0], clusters[1][1], marker='*', s=200, color='black')\n",
        "plt.scatter(clusters[2][0], clusters[2][1], marker='*', s=200, color='black')\n",
        "#plt.scatter(clusters[3][0], clusters[3][1], marker='*', s=200, color='black')\n",
        "plt.show()\n"
      ],
      "execution_count": null,
      "outputs": [
        {
          "data": {
            "image/png": "[encoded data removed]",
            "text/plain": [
              "<Figure size 432x288 with 1 Axes>"
            ]
          },
          "metadata": {
            "needs_background": "light"
          },
          "output_type": "display_data"
        }
      ]
    },
    {
      "cell_type": "markdown",
      "metadata": {
        "id": "X8CfvLAVxTai"
      },
      "source": [
        "### In the two following blocks, we try to evaluate how good is our model precition using the silhouette score by computing first the Euclidean distance and then the manhattan distance but we have a poor perfomance for the two metrics and there is no significant difference between the two."
      ]
    },
    {
      "cell_type": "code",
      "metadata": {
        "id": "65VKZ0P8xTai",
        "outputId": "f3ef032d-8aa2-4d36-92dd-aa9e8044a23d"
      },
      "source": [
        "from sklearn import metrics\n",
        "labels = K_mean.labels_\n",
        "silhouette_vals =metrics.silhouette_score(point, y_km, metric = 'euclidean')\n",
        "silhouette_vals"
      ],
      "execution_count": null,
      "outputs": [
        {
          "data": {
            "text/plain": [
              "0.5680374029505039"
            ]
          },
          "execution_count": 184,
          "metadata": {},
          "output_type": "execute_result"
        }
      ]
    },
    {
      "cell_type": "code",
      "metadata": {
        "id": "kNTX8QOdxTaj",
        "outputId": "036a9aba-e448-4a12-ffb8-1d2e0e002adf"
      },
      "source": [
        "from sklearn import metrics\n",
        "labels = K_mean.labels_\n",
        "silhouette_vals =metrics.silhouette_score(point, y_km, metric = 'manhattan')\n",
        "silhouette_vals"
      ],
      "execution_count": null,
      "outputs": [
        {
          "data": {
            "text/plain": [
              "0.5687464117421482"
            ]
          },
          "execution_count": 185,
          "metadata": {},
          "output_type": "execute_result"
        }
      ]
    },
    {
      "cell_type": "markdown",
      "metadata": {
        "id": "yNREtBmdxTaj"
      },
      "source": [
        "### We now use the k-fold cross validation method with 5 folds  to test the accuracy of our prediction, and we  also have poor results  but we can see from the accuracies that one of the folds performed well and the other folds did not perform well and when we take the mean we have a poor result."
      ]
    },
    {
      "cell_type": "code",
      "metadata": {
        "id": "j9hI875hxTaj",
        "outputId": "4201b8c9-df4a-44d1-f4bd-d82bf23670ed"
      },
      "source": [
        "accuracy = cross_val_score(model, point, point1, scoring='accuracy',error_score = 'raise', cv = 5)"
      ],
      "execution_count": null,
      "outputs": [
        {
          "name": "stdout",
          "output_type": "stream",
          "text": [
            "Initialization complete\n",
            "start iteration\n",
            "done sorting\n",
            "end inner loop\n",
            "Iteration 0, inertia 1184252.2710715202\n",
            "start iteration\n",
            "done sorting\n",
            "end inner loop\n",
            "Iteration 1, inertia 1175116.6160820427\n",
            "start iteration\n",
            "done sorting\n",
            "end inner loop\n",
            "Iteration 2, inertia 1172650.3278240783\n",
            "start iteration\n",
            "done sorting\n",
            "end inner loop\n",
            "Iteration 3, inertia 1169595.3846735018\n",
            "start iteration\n",
            "done sorting\n",
            "end inner loop\n",
            "Iteration 4, inertia 1166052.5691643204\n",
            "start iteration\n",
            "done sorting\n",
            "end inner loop\n",
            "Iteration 5, inertia 1161806.7834586073\n",
            "start iteration\n",
            "done sorting\n",
            "end inner loop\n",
            "Iteration 6, inertia 1156446.2103817312\n",
            "start iteration\n",
            "done sorting\n",
            "end inner loop\n",
            "Iteration 7, inertia 1149571.1383507128\n",
            "start iteration\n",
            "done sorting\n",
            "end inner loop\n",
            "Iteration 8, inertia 1138382.3769416444\n",
            "start iteration\n",
            "done sorting\n",
            "end inner loop\n",
            "Iteration 9, inertia 1115895.8769445438\n",
            "start iteration\n",
            "done sorting\n",
            "end inner loop\n",
            "Iteration 10, inertia 1055115.3658316277\n",
            "start iteration\n",
            "done sorting\n",
            "end inner loop\n",
            "Iteration 11, inertia 895327.7273803856\n",
            "start iteration\n",
            "done sorting\n",
            "end inner loop\n",
            "Iteration 12, inertia 693672.1885630252\n",
            "start iteration\n",
            "done sorting\n",
            "end inner loop\n",
            "Iteration 13, inertia 621470.951528599\n",
            "start iteration\n",
            "done sorting\n",
            "end inner loop\n",
            "Iteration 14, inertia 611021.1887958224\n",
            "start iteration\n",
            "done sorting\n",
            "end inner loop\n",
            "Iteration 15, inertia 609883.3844299214\n",
            "start iteration\n",
            "done sorting\n",
            "end inner loop\n",
            "Iteration 16, inertia 609754.0315578333\n",
            "start iteration\n",
            "done sorting\n",
            "end inner loop\n",
            "Iteration 17, inertia 609730.782367457\n",
            "center shift 2.309024e-02 within tolerance 2.519727e-03\n",
            "Initialization complete\n",
            "start iteration\n",
            "done sorting\n",
            "end inner loop\n",
            "Iteration 0, inertia 1122673.0666156202\n",
            "start iteration\n",
            "done sorting\n",
            "end inner loop\n",
            "Iteration 1, inertia 1112188.1756828723\n",
            "start iteration\n",
            "done sorting\n",
            "end inner loop\n",
            "Iteration 2, inertia 1038417.6116800895\n",
            "start iteration\n",
            "done sorting\n",
            "end inner loop\n",
            "Iteration 3, inertia 701802.9293918787\n",
            "start iteration\n",
            "done sorting\n",
            "end inner loop\n",
            "Iteration 4, inertia 611734.2545538989\n",
            "start iteration\n",
            "done sorting\n",
            "end inner loop\n",
            "Iteration 5, inertia 609760.6170305065\n",
            "start iteration\n",
            "done sorting\n",
            "end inner loop\n",
            "Iteration 6, inertia 609725.0211192631\n",
            "center shift 2.148099e-02 within tolerance 2.519727e-03\n",
            "Initialization complete\n",
            "start iteration\n",
            "done sorting\n",
            "end inner loop\n",
            "Iteration 0, inertia 627212.265633117\n",
            "start iteration\n",
            "done sorting\n",
            "end inner loop\n",
            "Iteration 1, inertia 610607.6251584662\n",
            "start iteration\n",
            "done sorting\n",
            "end inner loop\n",
            "Iteration 2, inertia 609822.5270027898\n",
            "start iteration\n",
            "done sorting\n",
            "end inner loop\n",
            "Iteration 3, inertia 609732.7719338898\n",
            "center shift 4.029064e-02 within tolerance 2.519727e-03\n",
            "Initialization complete\n",
            "start iteration\n",
            "done sorting\n",
            "end inner loop\n",
            "Iteration 0, inertia 634248.2155325415\n",
            "start iteration\n",
            "done sorting\n",
            "end inner loop\n",
            "Iteration 1, inertia 611405.1807264255\n",
            "start iteration\n",
            "done sorting\n",
            "end inner loop\n",
            "Iteration 2, inertia 609905.5643796233\n",
            "start iteration\n",
            "done sorting\n",
            "end inner loop\n",
            "Iteration 3, inertia 609740.8090680991\n",
            "start iteration\n",
            "done sorting\n",
            "end inner loop\n",
            "Iteration 4, inertia 609725.110842558\n",
            "center shift 1.616126e-02 within tolerance 2.519727e-03\n",
            "Initialization complete\n",
            "start iteration\n",
            "done sorting\n",
            "end inner loop\n",
            "Iteration 0, inertia 631511.2128857631\n",
            "start iteration\n",
            "done sorting\n",
            "end inner loop\n",
            "Iteration 1, inertia 611453.9163838911\n",
            "start iteration\n",
            "done sorting\n",
            "end inner loop\n",
            "Iteration 2, inertia 609921.5015505451\n",
            "start iteration\n",
            "done sorting\n",
            "end inner loop\n",
            "Iteration 3, inertia 609757.4263432324\n",
            "start iteration\n",
            "done sorting\n",
            "end inner loop\n",
            "Iteration 4, inertia 609731.1086693009\n",
            "center shift 2.497515e-02 within tolerance 2.519727e-03\n",
            "Initialization complete\n",
            "start iteration\n",
            "done sorting\n",
            "end inner loop\n",
            "Iteration 0, inertia 681912.6408633712\n",
            "start iteration\n",
            "done sorting\n",
            "end inner loop\n",
            "Iteration 1, inertia 612902.4524215554\n",
            "start iteration\n",
            "done sorting\n",
            "end inner loop\n",
            "Iteration 2, inertia 609979.4808776344\n",
            "start iteration\n",
            "done sorting\n",
            "end inner loop\n",
            "Iteration 3, inertia 609745.3476034754\n",
            "start iteration\n",
            "done sorting\n",
            "end inner loop\n",
            "Iteration 4, inertia 609725.2097172937\n",
            "center shift 1.840204e-02 within tolerance 2.519727e-03\n",
            "Initialization complete\n",
            "start iteration\n",
            "done sorting\n",
            "end inner loop\n",
            "Iteration 0, inertia 641336.7595728332\n",
            "start iteration\n",
            "done sorting\n",
            "end inner loop\n",
            "Iteration 1, inertia 611999.9435033243\n",
            "start iteration\n",
            "done sorting\n",
            "end inner loop\n",
            "Iteration 2, inertia 609961.4440137978\n",
            "start iteration\n",
            "done sorting\n",
            "end inner loop\n",
            "Iteration 3, inertia 609760.7297712301\n",
            "start iteration\n",
            "done sorting\n",
            "end inner loop\n",
            "Iteration 4, inertia 609731.4354043218\n",
            "center shift 2.646603e-02 within tolerance 2.519727e-03\n",
            "Initialization complete\n",
            "start iteration\n",
            "done sorting\n",
            "end inner loop\n",
            "Iteration 0, inertia 698752.587661591\n",
            "start iteration\n",
            "done sorting\n",
            "end inner loop\n",
            "Iteration 1, inertia 618307.6071793007\n",
            "start iteration\n",
            "done sorting\n",
            "end inner loop\n",
            "Iteration 2, inertia 610575.8303027874\n",
            "start iteration\n",
            "done sorting\n",
            "end inner loop\n",
            "Iteration 3, inertia 609820.0939972894\n",
            "start iteration\n",
            "done sorting\n",
            "end inner loop\n",
            "Iteration 4, inertia 609732.2068490997\n",
            "center shift 3.971453e-02 within tolerance 2.519727e-03\n",
            "Initialization complete\n",
            "start iteration\n",
            "done sorting\n",
            "end inner loop\n",
            "Iteration 0, inertia 686504.7330684694\n",
            "start iteration\n",
            "done sorting\n",
            "end inner loop\n",
            "Iteration 1, inertia 613224.4854265538\n",
            "start iteration\n",
            "done sorting\n",
            "end inner loop\n",
            "Iteration 2, inertia 610074.6829193453\n",
            "start iteration\n",
            "done sorting\n",
            "end inner loop\n",
            "Iteration 3, inertia 609760.0755136951\n",
            "start iteration\n",
            "done sorting\n",
            "end inner loop\n",
            "Iteration 4, inertia 609726.5058686936\n",
            "center shift 2.385530e-02 within tolerance 2.519727e-03\n",
            "Initialization complete\n",
            "start iteration\n",
            "done sorting\n",
            "end inner loop\n",
            "Iteration 0, inertia 641440.7900819946\n",
            "start iteration\n",
            "done sorting\n",
            "end inner loop\n",
            "Iteration 1, inertia 610584.8360485431\n",
            "start iteration\n",
            "done sorting\n",
            "end inner loop\n",
            "Iteration 2, inertia 609759.9362103717\n",
            "start iteration\n",
            "done sorting\n",
            "end inner loop\n",
            "Iteration 3, inertia 609725.2259234949\n",
            "center shift 2.442232e-02 within tolerance 2.519727e-03\n",
            "Initialization complete\n",
            "start iteration\n",
            "done sorting\n",
            "end inner loop\n",
            "Iteration 0, inertia 747295.4255484858\n",
            "start iteration\n",
            "done sorting\n",
            "end inner loop\n",
            "Iteration 1, inertia 614533.8799008997\n",
            "start iteration\n",
            "done sorting\n",
            "end inner loop\n",
            "Iteration 2, inertia 610585.8506492464\n",
            "start iteration\n",
            "done sorting\n",
            "end inner loop\n",
            "Iteration 3, inertia 610485.1094229011\n",
            "center shift 3.601588e-02 within tolerance 2.523942e-03\n",
            "Initialization complete\n",
            "start iteration\n",
            "done sorting\n",
            "end inner loop\n",
            "Iteration 0, inertia 711565.146133474\n",
            "start iteration\n",
            "done sorting\n",
            "end inner loop\n",
            "Iteration 1, inertia 613242.7355428585\n",
            "start iteration\n",
            "done sorting\n",
            "end inner loop\n",
            "Iteration 2, inertia 610570.5704721462\n",
            "start iteration\n",
            "done sorting\n",
            "end inner loop\n",
            "Iteration 3, inertia 610492.0004759643\n",
            "center shift 3.779872e-02 within tolerance 2.523942e-03\n",
            "Initialization complete\n",
            "start iteration\n",
            "done sorting\n",
            "end inner loop\n",
            "Iteration 0, inertia 708630.5663953695\n",
            "start iteration\n",
            "done sorting\n",
            "end inner loop\n",
            "Iteration 1, inertia 623346.6754465061\n",
            "start iteration\n",
            "done sorting\n",
            "end inner loop\n",
            "Iteration 2, inertia 611943.8737818062\n",
            "start iteration\n",
            "done sorting\n",
            "end inner loop\n",
            "Iteration 3, inertia 610653.2750684036\n",
            "start iteration\n",
            "done sorting\n",
            "end inner loop\n",
            "Iteration 4, inertia 610507.7648262166\n",
            "start iteration\n",
            "done sorting\n",
            "end inner loop\n",
            "Iteration 5, inertia 610485.7965603707\n",
            "center shift 2.247891e-02 within tolerance 2.523942e-03\n",
            "Initialization complete\n",
            "start iteration\n",
            "done sorting\n",
            "end inner loop\n",
            "Iteration 0, inertia 632407.4540649003\n",
            "start iteration\n",
            "done sorting\n",
            "end inner loop\n",
            "Iteration 1, inertia 610829.2470748901\n",
            "start iteration\n",
            "done sorting\n",
            "end inner loop\n",
            "Iteration 2, inertia 610506.753929757\n",
            "start iteration\n",
            "done sorting\n",
            "end inner loop\n",
            "Iteration 3, inertia 610484.8648837655\n",
            "center shift 2.307936e-02 within tolerance 2.523942e-03\n",
            "Initialization complete\n",
            "start iteration\n",
            "done sorting\n",
            "end inner loop\n",
            "Iteration 0, inertia 717129.8279155209\n",
            "start iteration\n",
            "done sorting\n",
            "end inner loop\n",
            "Iteration 1, inertia 624758.2386160382\n",
            "start iteration\n",
            "done sorting\n",
            "end inner loop\n",
            "Iteration 2, inertia 612160.1339416766\n",
            "start iteration\n",
            "done sorting\n",
            "end inner loop\n",
            "Iteration 3, inertia 610670.2423106598\n",
            "start iteration\n",
            "done sorting\n",
            "end inner loop\n",
            "Iteration 4, inertia 610511.9870348497\n",
            "start iteration\n",
            "done sorting\n",
            "end inner loop\n",
            "Iteration 5, inertia 610486.763491857\n",
            "center shift 2.377217e-02 within tolerance 2.523942e-03\n",
            "Initialization complete\n",
            "start iteration\n",
            "done sorting\n",
            "end inner loop\n",
            "Iteration 0, inertia 622258.641661421\n",
            "start iteration\n",
            "done sorting\n",
            "end inner loop\n",
            "Iteration 1, inertia 611069.8450910405\n",
            "start iteration\n",
            "done sorting\n",
            "end inner loop\n",
            "Iteration 2, inertia 610535.0998337121\n",
            "start iteration\n",
            "done sorting\n",
            "end inner loop\n",
            "Iteration 3, inertia 610484.3128169428\n",
            "center shift 2.928617e-02 within tolerance 2.523942e-03\n",
            "Initialization complete\n",
            "start iteration\n",
            "done sorting\n",
            "end inner loop\n",
            "Iteration 0, inertia 666251.1299710765\n",
            "start iteration\n",
            "done sorting\n",
            "end inner loop\n",
            "Iteration 1, inertia 614466.4444181741\n",
            "start iteration\n",
            "done sorting\n",
            "end inner loop\n",
            "Iteration 2, inertia 610863.7250225905\n",
            "start iteration\n",
            "done sorting\n",
            "end inner loop\n",
            "Iteration 3, inertia 610535.5679753243\n",
            "start iteration\n",
            "done sorting\n",
            "end inner loop\n",
            "Iteration 4, inertia 610491.5083018728\n",
            "center shift 3.030875e-02 within tolerance 2.523942e-03\n",
            "Initialization complete\n",
            "start iteration\n",
            "done sorting\n",
            "end inner loop\n",
            "Iteration 0, inertia 664564.1552189011\n",
            "start iteration\n",
            "done sorting\n",
            "end inner loop\n",
            "Iteration 1, inertia 617576.3154025465\n",
            "start iteration\n",
            "done sorting\n",
            "end inner loop\n",
            "Iteration 2, inertia 611314.7851566143\n",
            "start iteration\n",
            "done sorting\n",
            "end inner loop\n",
            "Iteration 3, inertia 610588.4293485968\n",
            "start iteration\n",
            "done sorting\n",
            "end inner loop\n",
            "Iteration 4, inertia 610499.7142082996\n",
            "center shift 4.281611e-02 within tolerance 2.523942e-03\n",
            "Initialization complete\n",
            "start iteration\n",
            "done sorting\n",
            "end inner loop\n",
            "Iteration 0, inertia 644087.6430108678\n",
            "start iteration\n",
            "done sorting\n",
            "end inner loop\n",
            "Iteration 1, inertia 610626.7878935492\n",
            "start iteration\n",
            "done sorting\n",
            "end inner loop\n",
            "Iteration 2, inertia 610490.4831966643\n",
            "center shift 4.308105e-02 within tolerance 2.523942e-03\n",
            "Initialization complete\n",
            "start iteration\n",
            "done sorting\n",
            "end inner loop\n",
            "Iteration 0, inertia 647028.5046073721\n",
            "start iteration\n",
            "done sorting\n",
            "end inner loop\n",
            "Iteration 1, inertia 611285.7565208566\n",
            "start iteration\n",
            "done sorting\n",
            "end inner loop\n",
            "Iteration 2, inertia 610506.6219765113\n",
            "start iteration\n",
            "done sorting\n",
            "end inner loop\n",
            "Iteration 3, inertia 610483.3858385342\n",
            "center shift 2.112717e-02 within tolerance 2.523942e-03\n",
            "Initialization complete\n",
            "start iteration\n",
            "done sorting\n",
            "end inner loop\n",
            "Iteration 0, inertia 646299.3542488443\n",
            "start iteration\n",
            "done sorting\n",
            "end inner loop\n",
            "Iteration 1, inertia 615074.441877172\n",
            "start iteration\n",
            "done sorting\n",
            "end inner loop\n",
            "Iteration 2, inertia 611627.8908515028\n",
            "start iteration\n",
            "done sorting\n",
            "end inner loop\n",
            "Iteration 3, inertia 611227.9409577241\n",
            "start iteration\n",
            "done sorting\n",
            "end inner loop\n",
            "Iteration 4, inertia 611186.0144964155\n",
            "center shift 2.790065e-02 within tolerance 2.518068e-03\n",
            "Initialization complete\n",
            "start iteration\n",
            "done sorting\n",
            "end inner loop\n",
            "Iteration 0, inertia 844873.3424239822\n",
            "start iteration\n",
            "done sorting\n",
            "end inner loop\n",
            "Iteration 1, inertia 621066.8722192289\n",
            "start iteration\n",
            "done sorting\n",
            "end inner loop\n",
            "Iteration 2, inertia 611361.9409072195\n",
            "start iteration\n",
            "done sorting\n",
            "end inner loop\n",
            "Iteration 3, inertia 611185.2749096733\n",
            "center shift 4.392072e-02 within tolerance 2.518068e-03\n",
            "Initialization complete\n",
            "start iteration\n",
            "done sorting\n",
            "end inner loop\n",
            "Iteration 0, inertia 624213.6889772129\n",
            "start iteration\n",
            "done sorting\n",
            "end inner loop\n",
            "Iteration 1, inertia 611287.0137554571\n",
            "start iteration\n",
            "done sorting\n",
            "end inner loop\n",
            "Iteration 2, inertia 611185.4797533512\n",
            "center shift 3.479859e-02 within tolerance 2.518068e-03\n",
            "Initialization complete\n",
            "start iteration\n",
            "done sorting\n",
            "end inner loop\n",
            "Iteration 0, inertia 614027.0306740578\n",
            "start iteration\n",
            "done sorting\n",
            "end inner loop\n",
            "Iteration 1, inertia 611408.9118380805\n",
            "start iteration\n",
            "done sorting\n",
            "end inner loop\n",
            "Iteration 2, inertia 611219.1721119642\n",
            "start iteration\n",
            "done sorting\n",
            "end inner loop\n",
            "Iteration 3, inertia 611190.303981678\n",
            "center shift 2.506275e-02 within tolerance 2.518068e-03\n",
            "Initialization complete\n",
            "start iteration\n",
            "done sorting\n",
            "end inner loop\n",
            "Iteration 0, inertia 636706.0225275606\n",
            "start iteration\n",
            "done sorting\n",
            "end inner loop\n",
            "Iteration 1, inertia 612055.146978831\n",
            "start iteration\n",
            "done sorting\n",
            "end inner loop\n",
            "Iteration 2, inertia 611241.3461965343\n",
            "start iteration\n",
            "done sorting\n",
            "end inner loop\n",
            "Iteration 3, inertia 611187.0830947229\n",
            "center shift 3.057214e-02 within tolerance 2.518068e-03\n",
            "Initialization complete\n",
            "start iteration\n",
            "done sorting\n",
            "end inner loop\n",
            "Iteration 0, inertia 694212.0811294995\n",
            "start iteration\n",
            "done sorting\n",
            "end inner loop\n",
            "Iteration 1, inertia 623359.6386631633\n",
            "start iteration\n",
            "done sorting\n",
            "end inner loop\n",
            "Iteration 2, inertia 612626.4035629644\n",
            "start iteration\n",
            "done sorting\n",
            "end inner loop\n",
            "Iteration 3, inertia 611352.2373526986\n",
            "start iteration\n",
            "done sorting\n",
            "end inner loop\n",
            "Iteration 4, inertia 611199.2716486509\n",
            "start iteration\n",
            "done sorting\n",
            "end inner loop\n",
            "Iteration 5, inertia 611183.7491254255\n",
            "center shift 1.696674e-02 within tolerance 2.518068e-03\n",
            "Initialization complete\n",
            "start iteration\n",
            "done sorting\n",
            "end inner loop\n",
            "Iteration 0, inertia 657439.0397859369\n",
            "start iteration\n",
            "done sorting\n",
            "end inner loop\n",
            "Iteration 1, inertia 615392.8974190708\n",
            "start iteration\n",
            "done sorting\n",
            "end inner loop\n",
            "Iteration 2, inertia 611614.6841485227\n",
            "start iteration\n",
            "done sorting\n",
            "end inner loop\n",
            "Iteration 3, inertia 611245.2732575794\n",
            "start iteration\n",
            "done sorting\n",
            "end inner loop\n",
            "Iteration 4, inertia 611193.9828020985\n",
            "center shift 3.359821e-02 within tolerance 2.518068e-03\n",
            "Initialization complete\n",
            "start iteration\n",
            "done sorting\n",
            "end inner loop\n",
            "Iteration 0, inertia 624151.1120894967\n",
            "start iteration\n",
            "done sorting\n",
            "end inner loop\n",
            "Iteration 1, inertia 612321.8134259537\n",
            "start iteration\n",
            "done sorting\n",
            "end inner loop\n",
            "Iteration 2, inertia 611326.0828119353\n",
            "start iteration\n",
            "done sorting\n",
            "end inner loop\n",
            "Iteration 3, inertia 611207.1760105714\n",
            "center shift 4.998539e-02 within tolerance 2.518068e-03\n",
            "Initialization complete\n",
            "start iteration\n",
            "done sorting\n",
            "end inner loop\n",
            "Iteration 0, inertia 1174769.512290222\n",
            "start iteration\n",
            "done sorting\n",
            "end inner loop\n",
            "Iteration 1, inertia 1141620.8054273033\n",
            "start iteration\n",
            "done sorting\n",
            "end inner loop\n",
            "Iteration 2, inertia 1120104.8844398544\n",
            "start iteration\n",
            "done sorting\n",
            "end inner loop\n",
            "Iteration 3, inertia 1064223.7440008183\n",
            "start iteration\n",
            "done sorting\n",
            "end inner loop\n",
            "Iteration 4, inertia 912556.8371525247\n",
            "start iteration\n",
            "done sorting\n",
            "end inner loop\n",
            "Iteration 5, inertia 704253.1708014206\n",
            "start iteration\n",
            "done sorting\n",
            "end inner loop\n",
            "Iteration 6, inertia 624565.1332055847\n",
            "start iteration\n",
            "done sorting\n",
            "end inner loop\n",
            "Iteration 7, inertia 612648.3911406576\n",
            "start iteration\n",
            "done sorting\n",
            "end inner loop\n",
            "Iteration 8, inertia 611357.2856529816\n",
            "start iteration\n",
            "done sorting\n",
            "end inner loop\n",
            "Iteration 9, inertia 611211.1811022948\n",
            "start iteration\n",
            "done sorting\n",
            "end inner loop\n",
            "Iteration 10, inertia 611188.4504039458\n",
            "center shift 2.292033e-02 within tolerance 2.518068e-03\n",
            "Initialization complete\n",
            "start iteration\n",
            "done sorting\n",
            "end inner loop\n",
            "Iteration 0, inertia 619675.995633228\n",
            "start iteration\n",
            "done sorting\n",
            "end inner loop\n",
            "Iteration 1, inertia 611484.4037704637\n",
            "start iteration\n",
            "done sorting\n",
            "end inner loop\n",
            "Iteration 2, inertia 611206.5169717256\n",
            "start iteration\n",
            "done sorting\n",
            "end inner loop\n",
            "Iteration 3, inertia 611184.504848465\n",
            "center shift 1.946454e-02 within tolerance 2.518068e-03\n",
            "Initialization complete\n",
            "start iteration\n",
            "done sorting\n",
            "end inner loop\n",
            "Iteration 0, inertia 672991.2299779406\n",
            "start iteration\n",
            "done sorting\n",
            "end inner loop\n",
            "Iteration 1, inertia 617675.1117420486\n",
            "start iteration\n",
            "done sorting\n",
            "end inner loop\n",
            "Iteration 2, inertia 611153.8716651456\n",
            "start iteration\n",
            "done sorting\n",
            "end inner loop\n",
            "Iteration 3, inertia 610466.7776285989\n",
            "start iteration\n",
            "done sorting\n",
            "end inner loop\n",
            "Iteration 4, inertia 610389.6293597621\n",
            "center shift 3.551166e-02 within tolerance 2.522482e-03\n",
            "Initialization complete\n",
            "start iteration\n",
            "done sorting\n",
            "end inner loop\n",
            "Iteration 0, inertia 678662.5260350911\n",
            "start iteration\n",
            "done sorting\n",
            "end inner loop\n",
            "Iteration 1, inertia 617197.6918945954\n",
            "start iteration\n",
            "done sorting\n",
            "end inner loop\n",
            "Iteration 2, inertia 611066.801229289\n",
            "start iteration\n",
            "done sorting\n",
            "end inner loop\n",
            "Iteration 3, inertia 610456.4721934781\n",
            "start iteration\n",
            "done sorting\n",
            "end inner loop\n",
            "Iteration 4, inertia 610388.443821697\n",
            "center shift 3.324631e-02 within tolerance 2.522482e-03\n",
            "Initialization complete\n",
            "start iteration\n",
            "done sorting\n",
            "end inner loop\n",
            "Iteration 0, inertia 661094.3278847802\n",
            "start iteration\n",
            "done sorting\n",
            "end inner loop\n",
            "Iteration 1, inertia 616887.7897713204\n",
            "start iteration\n",
            "done sorting\n",
            "end inner loop\n",
            "Iteration 2, inertia 611169.6680388602\n",
            "start iteration\n",
            "done sorting\n",
            "end inner loop\n",
            "Iteration 3, inertia 610489.9473421214\n",
            "start iteration\n",
            "done sorting\n",
            "end inner loop\n",
            "Iteration 4, inertia 610397.9410209463\n",
            "center shift 4.454796e-02 within tolerance 2.522482e-03\n",
            "Initialization complete\n",
            "start iteration\n",
            "done sorting\n",
            "end inner loop\n",
            "Iteration 0, inertia 622337.0671092044\n",
            "start iteration\n",
            "done sorting\n",
            "end inner loop\n",
            "Iteration 1, inertia 610698.007058199\n",
            "start iteration\n",
            "done sorting\n",
            "end inner loop\n",
            "Iteration 2, inertia 610419.4702524261\n",
            "start iteration\n",
            "done sorting\n",
            "end inner loop\n",
            "Iteration 3, inertia 610386.4265514441\n",
            "center shift 2.709888e-02 within tolerance 2.522482e-03\n",
            "Initialization complete\n",
            "start iteration\n",
            "done sorting\n",
            "end inner loop\n",
            "Iteration 0, inertia 640109.0470483305\n",
            "start iteration\n",
            "done sorting\n",
            "end inner loop\n",
            "Iteration 1, inertia 611112.7267647675\n",
            "start iteration\n",
            "done sorting\n",
            "end inner loop\n",
            "Iteration 2, inertia 610426.8310799444\n",
            "start iteration\n",
            "done sorting\n",
            "end inner loop\n",
            "Iteration 3, inertia 610386.9616047776\n",
            "center shift 2.757893e-02 within tolerance 2.522482e-03\n",
            "Initialization complete\n",
            "start iteration\n",
            "done sorting\n",
            "end inner loop\n",
            "Iteration 0, inertia 623541.8364054142\n",
            "start iteration\n",
            "done sorting\n",
            "end inner loop\n",
            "Iteration 1, inertia 610936.5719562133\n",
            "start iteration\n",
            "done sorting\n",
            "end inner loop\n",
            "Iteration 2, inertia 610445.1765033182\n",
            "start iteration\n",
            "done sorting\n",
            "end inner loop\n",
            "Iteration 3, inertia 610390.059810159\n",
            "center shift 3.477644e-02 within tolerance 2.522482e-03\n",
            "Initialization complete\n",
            "start iteration\n",
            "done sorting\n",
            "end inner loop\n",
            "Iteration 0, inertia 657212.574584082\n",
            "start iteration\n",
            "done sorting\n",
            "end inner loop\n",
            "Iteration 1, inertia 612587.6255024543\n",
            "start iteration\n",
            "done sorting\n",
            "end inner loop\n",
            "Iteration 2, inertia 610559.121188682\n",
            "start iteration\n",
            "done sorting\n",
            "end inner loop\n",
            "Iteration 3, inertia 610405.2369713377\n",
            "start iteration\n",
            "done sorting\n",
            "end inner loop\n",
            "Iteration 4, inertia 610384.739801054\n",
            "center shift 2.090599e-02 within tolerance 2.522482e-03\n",
            "Initialization complete\n",
            "start iteration\n",
            "done sorting\n",
            "end inner loop\n",
            "Iteration 0, inertia 695963.108373174\n",
            "start iteration\n",
            "done sorting\n",
            "end inner loop\n",
            "Iteration 1, inertia 621341.5059872695\n",
            "start iteration\n",
            "done sorting\n",
            "end inner loop\n",
            "Iteration 2, inertia 611626.4682358942\n",
            "start iteration\n",
            "done sorting\n",
            "end inner loop\n",
            "Iteration 3, inertia 610512.0843046029\n",
            "start iteration\n",
            "done sorting\n",
            "end inner loop\n",
            "Iteration 4, inertia 610391.7783651601\n",
            "center shift 4.733099e-02 within tolerance 2.522482e-03\n",
            "Initialization complete\n",
            "start iteration\n",
            "done sorting\n",
            "end inner loop\n",
            "Iteration 0, inertia 614418.5296365973\n",
            "start iteration\n",
            "done sorting\n",
            "end inner loop\n",
            "Iteration 1, inertia 610508.5092668779\n",
            "start iteration\n",
            "done sorting\n",
            "end inner loop\n",
            "Iteration 2, inertia 610390.0862451094\n",
            "center shift 4.334959e-02 within tolerance 2.522482e-03\n",
            "Initialization complete\n",
            "start iteration\n",
            "done sorting\n",
            "end inner loop\n",
            "Iteration 0, inertia 762924.8580683272\n",
            "start iteration\n",
            "done sorting\n",
            "end inner loop\n",
            "Iteration 1, inertia 635680.8434197805\n",
            "start iteration\n",
            "done sorting\n",
            "end inner loop\n",
            "Iteration 2, inertia 613561.6304687673\n",
            "start iteration\n",
            "done sorting\n",
            "end inner loop\n",
            "Iteration 3, inertia 610783.6059541699\n",
            "start iteration\n",
            "done sorting\n",
            "end inner loop\n",
            "Iteration 4, inertia 610437.7344985123\n",
            "start iteration\n",
            "done sorting\n",
            "end inner loop\n",
            "Iteration 5, inertia 610389.3407767133\n",
            "center shift 3.240218e-02 within tolerance 2.522482e-03\n",
            "Initialization complete\n",
            "start iteration\n",
            "done sorting\n",
            "end inner loop\n",
            "Iteration 0, inertia 740589.7994351586\n",
            "start iteration\n",
            "done sorting\n",
            "end inner loop\n",
            "Iteration 1, inertia 617782.680833935\n",
            "start iteration\n",
            "done sorting\n",
            "end inner loop\n",
            "Iteration 2, inertia 609283.7119127996\n",
            "start iteration\n",
            "done sorting\n",
            "end inner loop\n",
            "Iteration 3, inertia 608581.2317069329\n",
            "start iteration\n",
            "done sorting\n",
            "end inner loop\n",
            "Iteration 4, inertia 608515.3303289086\n",
            "center shift 3.375767e-02 within tolerance 2.521661e-03\n",
            "Initialization complete\n",
            "start iteration\n",
            "done sorting\n",
            "end inner loop\n",
            "Iteration 0, inertia 611311.2853358478\n",
            "start iteration\n",
            "done sorting\n",
            "end inner loop\n",
            "Iteration 1, inertia 608549.2717921817\n",
            "start iteration\n",
            "done sorting\n",
            "end inner loop\n",
            "Iteration 2, inertia 608512.1862553809\n",
            "center shift 2.340264e-02 within tolerance 2.521661e-03\n",
            "Initialization complete\n",
            "start iteration\n",
            "done sorting\n",
            "end inner loop\n",
            "Iteration 0, inertia 616257.7551148988\n",
            "start iteration\n",
            "done sorting\n",
            "end inner loop\n",
            "Iteration 1, inertia 609353.1126713894\n",
            "start iteration\n",
            "done sorting\n",
            "end inner loop\n",
            "Iteration 2, inertia 608617.9839766457\n",
            "start iteration\n",
            "done sorting\n",
            "end inner loop\n",
            "Iteration 3, inertia 608523.2155217187\n",
            "center shift 4.477375e-02 within tolerance 2.521661e-03\n",
            "Initialization complete\n",
            "start iteration\n",
            "done sorting\n",
            "end inner loop\n",
            "Iteration 0, inertia 782785.2738536352\n",
            "start iteration\n",
            "done sorting\n",
            "end inner loop\n",
            "Iteration 1, inertia 637895.0695534087\n",
            "start iteration\n",
            "done sorting\n",
            "end inner loop\n",
            "Iteration 2, inertia 612244.3151566089\n",
            "start iteration\n",
            "done sorting\n",
            "end inner loop\n",
            "Iteration 3, inertia 608931.6405693897\n",
            "start iteration\n",
            "done sorting\n",
            "end inner loop\n",
            "Iteration 4, inertia 608551.2069855545\n",
            "start iteration\n",
            "done sorting\n",
            "end inner loop\n",
            "Iteration 5, inertia 608512.6125575235\n",
            "center shift 2.614959e-02 within tolerance 2.521661e-03\n",
            "Initialization complete\n",
            "start iteration\n",
            "done sorting\n",
            "end inner loop\n",
            "Iteration 0, inertia 739108.5166967626\n",
            "start iteration\n",
            "done sorting\n",
            "end inner loop\n",
            "Iteration 1, inertia 625517.3450897655\n",
            "start iteration\n",
            "done sorting\n",
            "end inner loop\n",
            "Iteration 2, inertia 610445.2005674073\n",
            "start iteration\n",
            "done sorting\n",
            "end inner loop\n",
            "Iteration 3, inertia 608725.111287916\n",
            "start iteration\n",
            "done sorting\n",
            "end inner loop\n",
            "Iteration 4, inertia 608531.2796475755\n",
            "start iteration\n",
            "done sorting\n",
            "end inner loop\n",
            "Iteration 5, inertia 608511.4896981121\n",
            "center shift 1.832379e-02 within tolerance 2.521661e-03\n",
            "Initialization complete\n",
            "start iteration\n",
            "done sorting\n",
            "end inner loop\n",
            "Iteration 0, inertia 960371.4039908551\n",
            "start iteration\n",
            "done sorting\n",
            "end inner loop\n",
            "Iteration 1, inertia 649933.3420737779\n",
            "start iteration\n",
            "done sorting\n",
            "end inner loop\n",
            "Iteration 2, inertia 610383.9481701182\n",
            "start iteration\n",
            "done sorting\n",
            "end inner loop\n",
            "Iteration 3, inertia 608654.3261096288\n",
            "start iteration\n",
            "done sorting\n",
            "end inner loop\n",
            "Iteration 4, inertia 608526.5903412048\n",
            "start iteration\n",
            "done sorting\n",
            "end inner loop\n",
            "Iteration 5, inertia 608512.2286900055\n",
            "center shift 1.630356e-02 within tolerance 2.521661e-03\n",
            "Initialization complete\n",
            "start iteration\n",
            "done sorting\n",
            "end inner loop\n",
            "Iteration 0, inertia 670788.0766457479\n",
            "start iteration\n",
            "done sorting\n",
            "end inner loop\n",
            "Iteration 1, inertia 616365.8125557813\n",
            "start iteration\n",
            "done sorting\n",
            "end inner loop\n",
            "Iteration 2, inertia 609363.1941238528\n",
            "start iteration\n",
            "done sorting\n",
            "end inner loop\n",
            "Iteration 3, inertia 608617.8148308066\n",
            "start iteration\n",
            "done sorting\n",
            "end inner loop\n",
            "Iteration 4, inertia 608523.2155217187\n",
            "center shift 4.448538e-02 within tolerance 2.521661e-03\n",
            "Initialization complete\n",
            "start iteration\n",
            "done sorting\n",
            "end inner loop\n",
            "Iteration 0, inertia 619384.1835151924\n",
            "start iteration\n",
            "done sorting\n",
            "end inner loop\n",
            "Iteration 1, inertia 608786.2102113785\n",
            "start iteration\n",
            "done sorting\n",
            "end inner loop\n",
            "Iteration 2, inertia 608531.1096689266\n",
            "start iteration\n",
            "done sorting\n",
            "end inner loop\n",
            "Iteration 3, inertia 608512.6091683862\n",
            "center shift 1.864174e-02 within tolerance 2.521661e-03\n",
            "Initialization complete\n",
            "start iteration\n",
            "done sorting\n",
            "end inner loop\n",
            "Iteration 0, inertia 612411.8599884082\n",
            "start iteration\n",
            "done sorting\n",
            "end inner loop\n",
            "Iteration 1, inertia 608586.6873289925\n",
            "start iteration\n",
            "done sorting\n",
            "end inner loop\n",
            "Iteration 2, inertia 608512.1290989975\n",
            "center shift 3.129111e-02 within tolerance 2.521661e-03\n",
            "Initialization complete\n",
            "start iteration\n",
            "done sorting\n",
            "end inner loop\n",
            "Iteration 0, inertia 612410.5589076679\n",
            "start iteration\n",
            "done sorting\n",
            "end inner loop\n",
            "Iteration 1, inertia 608626.4899563418\n",
            "start iteration\n",
            "done sorting\n",
            "end inner loop\n",
            "Iteration 2, inertia 608519.3827426797\n",
            "center shift 4.366624e-02 within tolerance 2.521661e-03\n"
          ]
        }
      ]
    },
    {
      "cell_type": "code",
      "metadata": {
        "id": "NEDCRZelxTak",
        "outputId": "4b765c83-3606-4ed2-d32b-d6c548e8071a"
      },
      "source": [
        "print(accuracy)"
      ],
      "execution_count": null,
      "outputs": [
        {
          "name": "stdout",
          "output_type": "stream",
          "text": [
            "[0.32075 0.3617  0.96955 0.362   0.01525]\n"
          ]
        }
      ]
    },
    {
      "cell_type": "code",
      "metadata": {
        "id": "6dGa05VcxTak",
        "outputId": "cd90779c-5bfa-47b7-f9c8-c10569ab081f"
      },
      "source": [
        "#get the mean of each fold \n",
        "print(\"Accuracy of Model with Cross Validation is:\",accuracy.mean() *100)"
      ],
      "execution_count": null,
      "outputs": [
        {
          "name": "stdout",
          "output_type": "stream",
          "text": [
            "Accuracy of Model with Cross Validation is: 40.58500000000001\n"
          ]
        }
      ]
    },
    {
      "cell_type": "markdown",
      "metadata": {
        "id": "BHBD2ZKaxTal"
      },
      "source": [
        "We the decide to do some hyper parameter tunning using the  GridSearchCV to obtain the optimal parameters  combination for our model ."
      ]
    },
    {
      "cell_type": "code",
      "metadata": {
        "id": "Yv1S624DxTal"
      },
      "source": [
        "#Here we import our library\n",
        "from sklearn.model_selection import GridSearchCV"
      ],
      "execution_count": null,
      "outputs": []
    },
    {
      "cell_type": "markdown",
      "metadata": {
        "id": "DU6sG6-2xTal"
      },
      "source": [
        "### We assign the Kmean parameters to the entry grid_values5 and input all the parameters option for the funtion to choose the best combination of parameters."
      ]
    },
    {
      "cell_type": "code",
      "metadata": {
        "id": "6y0w08RtxTam"
      },
      "source": [
        "\n",
        "grid_values5 = {'n_clusters':[3], 'init':['k-means++'],   'n_init':[1], 'max_iter': [1000],  'tol': [1e-4],  'precompute_distances':['auto'], 'verbose':[0], 'random_state':[1,10,20,30] , 'copy_x':[ 'optional']    }"
      ],
      "execution_count": null,
      "outputs": []
    },
    {
      "cell_type": "markdown",
      "metadata": {
        "id": "zA8gfkdDxTam"
      },
      "source": [
        "### We now do the grid search with parameters of the GridSearchCV function the model (Kmeans), all the parameters options of the Kmean model  to evaluate the best accuracy"
      ]
    },
    {
      "cell_type": "code",
      "metadata": {
        "id": "KmYY5rxDxTan"
      },
      "source": [
        "grid_model_acc = GridSearchCV(model, param_grid = grid_values5, scoring='accuracy')"
      ],
      "execution_count": null,
      "outputs": []
    },
    {
      "cell_type": "markdown",
      "metadata": {
        "id": "n0qJqmhYxTan"
      },
      "source": [
        "### We now look for the optimal number of folds  by iterating over 100 folds and print  the fold having the highest accuracy for the cross validation."
      ]
    },
    {
      "cell_type": "code",
      "metadata": {
        "id": "-bm5wjqHxTan",
        "outputId": "be1fbbaa-588c-4f88-ea72-09b929d030c6"
      },
      "source": [
        "l=[]\n",
        "for k in range(2,100):\n",
        "    accuracy = cross_val_score(grid_model_acc , point, point1, scoring='accuracy',error_score = 'raise', cv = k)\n",
        "    l.append(accuracy.mean() *100)\n",
        "    \n",
        "np.max(l)\n"
      ],
      "execution_count": null,
      "outputs": [
        {
          "data": {
            "text/plain": [
              "96.819"
            ]
          },
          "execution_count": 192,
          "metadata": {},
          "output_type": "execute_result"
        }
      ]
    },
    {
      "cell_type": "markdown",
      "metadata": {
        "id": "ivQcp53MxTan"
      },
      "source": [
        "### We now print the list to check the number of fold giving the best accuracy and we see it is  2 -fold and  5-fold "
      ]
    },
    {
      "cell_type": "code",
      "metadata": {
        "id": "wZtDbdnWxTao",
        "outputId": "202e5015-70af-47e2-8268-f4c48b5c12af"
      },
      "source": [
        "l"
      ],
      "execution_count": null,
      "outputs": [
        {
          "data": {
            "text/plain": [
              "[96.819,\n",
              " 56.38659554532186,\n",
              " 65.456,\n",
              " 96.81600000000002,\n",
              " 53.58956657420314,\n",
              " 79.42234588979903,\n",
              " 81.068,\n",
              " 52.19855375299613,\n",
              " 60.07300000000001,\n",
              " 40.882558391137756,\n",
              " 45.89043820932103,\n",
              " 57.22100572570934,\n",
              " 83.06527358671534,\n",
              " 34.96718938430517,\n",
              " 43.03999999999999,\n",
              " 66.73344442821931,\n",
              " 57.35115268186286,\n",
              " 53.399334312856126,\n",
              " 62.027,\n",
              " 72.13284299741437,\n",
              " 35.49968921221202,\n",
              " 29.62408027718459,\n",
              " 39.35603586662659,\n",
              " 59.245999999999995,\n",
              " 63.404661478894816,\n",
              " 35.92631223042529,\n",
              " 40.949462087746156,\n",
              " 42.84588519473556,\n",
              " 37.958243934771396,\n",
              " 44.91310986457091,\n",
              " 21.51,\n",
              " 66.34494726278963,\n",
              " 71.21596058509941,\n",
              " 48.76020463024551,\n",
              " 64.2737414280174,\n",
              " 43.72423067511426,\n",
              " 35.04919942569737,\n",
              " 50.49369577122267,\n",
              " 40.426,\n",
              " 78.82043164693943,\n",
              " 59.78173671820682,\n",
              " 68.47674171337331,\n",
              " 78.91926340318037,\n",
              " 25.12153059660442,\n",
              " 38.5756695825126,\n",
              " 31.798122925625748,\n",
              " 13.841935918960088,\n",
              " 45.13873653331984,\n",
              " 52.19199999999999,\n",
              " 87.67617857953991,\n",
              " 33.55034981025021,\n",
              " 61.1733112326891,\n",
              " 30.838274699234212,\n",
              " 36.99531250541217,\n",
              " 47.96326817401093,\n",
              " 59.959408733739075,\n",
              " 70.52689548497213,\n",
              " 87.21577085254356,\n",
              " 61.171504594639316,\n",
              " 17.95726858737896,\n",
              " 84.60327429981993,\n",
              " 50.9449729957508,\n",
              " 22.593220873545818,\n",
              " 24.448736830275855,\n",
              " 47.99583124539367,\n",
              " 74.91203866211661,\n",
              " 48.45334666837503,\n",
              " 37.04660782100323,\n",
              " 61.32642420159108,\n",
              " 25.167837952289517,\n",
              " 82.15273613845763,\n",
              " 31.589861466738643,\n",
              " 63.54378247811887,\n",
              " 54.83232652241021,\n",
              " 32.9595348394447,\n",
              " 35.55128391348264,\n",
              " 65.56739666313076,\n",
              " 29.570683029277095,\n",
              " 30.193000000000005,\n",
              " 26.481771898474104,\n",
              " 52.39606290379665,\n",
              " 33.23484533798335,\n",
              " 17.374897062099397,\n",
              " 22.902838280596853,\n",
              " 90.61504901578986,\n",
              " 40.95495072307188,\n",
              " 64.00171537741682,\n",
              " 40.18467332170036,\n",
              " 23.262681483975733,\n",
              " 49.57497450001813,\n",
              " 22.69212822647315,\n",
              " 17.385383520601337,\n",
              " 18.161685851806514,\n",
              " 41.42052182876677,\n",
              " 18.779827150796855,\n",
              " 72.49490399749688,\n",
              " 60.50235275305029,\n",
              " 27.658564075992164]"
            ]
          },
          "execution_count": 193,
          "metadata": {},
          "output_type": "execute_result"
        }
      ]
    },
    {
      "cell_type": "code",
      "metadata": {
        "id": "xrOCumvKxTap"
      },
      "source": [
        "#We now perform the cross validation with 5-fold to confirm our results and we see that it has a good performance\n",
        "accuracy = cross_val_score(grid_model_acc  , point, point1, scoring='accuracy',error_score = 'raise', cv = 5)"
      ],
      "execution_count": null,
      "outputs": []
    },
    {
      "cell_type": "code",
      "metadata": {
        "id": "d_O9wUBDxTap",
        "outputId": "5b4b6d7b-707c-4f20-8003-ce9287ad199f"
      },
      "source": [
        "print(accuracy)"
      ],
      "execution_count": null,
      "outputs": [
        {
          "name": "stdout",
          "output_type": "stream",
          "text": [
            "[0.9683  0.96835 0.96955 0.96715 0.96745]\n"
          ]
        }
      ]
    },
    {
      "cell_type": "code",
      "metadata": {
        "id": "xfhFbuy_xTap",
        "outputId": "b0cedabe-3483-45f9-8598-3a5d4aa593a5"
      },
      "source": [
        "#get the mean of each fold \n",
        "print(\"Accuracy of Model with Cross Validation is:\",accuracy.mean() *100)"
      ],
      "execution_count": null,
      "outputs": [
        {
          "name": "stdout",
          "output_type": "stream",
          "text": [
            "Accuracy of Model with Cross Validation is: 96.81600000000002\n"
          ]
        }
      ]
    },
    {
      "cell_type": "markdown",
      "metadata": {
        "id": "Gc5YTVNJxTaq"
      },
      "source": [
        "### We now perform the cross val prediction to see how well it predicts the different classes with 5-fold to obtain a confusion matrix"
      ]
    },
    {
      "cell_type": "code",
      "metadata": {
        "id": "BotBOn4GxTaq"
      },
      "source": [
        "\n",
        "prediction= cross_val_predict(grid_model_acc  , point, point1, cv = 5)\n"
      ],
      "execution_count": null,
      "outputs": []
    },
    {
      "cell_type": "code",
      "metadata": {
        "id": "emeENaC_xTaq",
        "outputId": "bde9d5e7-7faa-4adc-f964-0748f248fb08"
      },
      "source": [
        "prediction"
      ],
      "execution_count": null,
      "outputs": [
        {
          "data": {
            "text/plain": [
              "array([1, 1, 2, ..., 2, 2, 0], dtype=int32)"
            ]
          },
          "execution_count": 198,
          "metadata": {},
          "output_type": "execute_result"
        }
      ]
    },
    {
      "cell_type": "markdown",
      "metadata": {
        "id": "OM_ajA03xTar"
      },
      "source": [
        "### We now import our confusion matrix and input the parameters which are: the actual labels that were removed and we compare it with the labels predicted using the cross validation and we get the following accuracies for the prediction of the different classes"
      ]
    },
    {
      "cell_type": "code",
      "metadata": {
        "id": "fdfOEA8sxTas"
      },
      "source": [
        "from sklearn.metrics import confusion_matrix\n",
        "from mlxtend.plotting import plot_confusion_matrix"
      ],
      "execution_count": null,
      "outputs": []
    },
    {
      "cell_type": "code",
      "metadata": {
        "id": "hw8Q4HewxTas",
        "outputId": "97ed356f-5d3b-4d33-e3d5-1e0f4f41e11f"
      },
      "source": [
        "out = confusion_matrix(point1,prediction)\n",
        "plot_confusion_matrix(conf_mat=out,figsize=(5,5),show_normed=True)"
      ],
      "execution_count": null,
      "outputs": [
        {
          "data": {
            "text/plain": [
              "(<Figure size 360x360 with 1 Axes>,\n",
              " <matplotlib.axes._subplots.AxesSubplot at 0x7ff1a7d45890>)"
            ]
          },
          "execution_count": 200,
          "metadata": {},
          "output_type": "execute_result"
        },
        {
          "data": {
            "image/png": "[encoded data removed]",
            "text/plain": [
              "<Figure size 360x360 with 1 Axes>"
            ]
          },
          "metadata": {
            "needs_background": "light"
          },
          "output_type": "display_data"
        }
      ]
    },
    {
      "cell_type": "code",
      "metadata": {
        "id": "daRVa98IxTat"
      },
      "source": [
        ""
      ],
      "execution_count": null,
      "outputs": []
    },
    {
      "cell_type": "code",
      "metadata": {
        "id": "xbHf7rxuxTat"
      },
      "source": [
        ""
      ],
      "execution_count": null,
      "outputs": []
    },
    {
      "cell_type": "code",
      "metadata": {
        "id": "NS_roBMYxTau"
      },
      "source": [
        ""
      ],
      "execution_count": null,
      "outputs": []
    },
    {
      "cell_type": "code",
      "metadata": {
        "id": "2D49x1f3xTau"
      },
      "source": [
        ""
      ],
      "execution_count": null,
      "outputs": []
    },
    {
      "cell_type": "code",
      "metadata": {
        "id": "6fP144QPxTav"
      },
      "source": [
        ""
      ],
      "execution_count": null,
      "outputs": []
    },
    {
      "cell_type": "code",
      "metadata": {
        "id": "SGPp4z79xTav"
      },
      "source": [
        ""
      ],
      "execution_count": null,
      "outputs": []
    },
    {
      "cell_type": "code",
      "metadata": {
        "id": "MVojq8RXxTav"
      },
      "source": [
        ""
      ],
      "execution_count": null,
      "outputs": []
    },
    {
      "cell_type": "code",
      "metadata": {
        "id": "SXM3dti_xTav"
      },
      "source": [
        ""
      ],
      "execution_count": null,
      "outputs": []
    },
    {
      "cell_type": "code",
      "metadata": {
        "id": "uN8QvblcxTaw"
      },
      "source": [
        ""
      ],
      "execution_count": null,
      "outputs": []
    },
    {
      "cell_type": "code",
      "metadata": {
        "id": "OWD9UZjvxTaw"
      },
      "source": [
        ""
      ],
      "execution_count": null,
      "outputs": []
    },
    {
      "cell_type": "code",
      "metadata": {
        "id": "pErN-g6WxTaw"
      },
      "source": [
        ""
      ],
      "execution_count": null,
      "outputs": []
    },
    {
      "cell_type": "code",
      "metadata": {
        "id": "X0MS4Fa-xTaw"
      },
      "source": [
        ""
      ],
      "execution_count": null,
      "outputs": []
    },
    {
      "cell_type": "code",
      "metadata": {
        "id": "x8xFf5hwxTax"
      },
      "source": [
        ""
      ],
      "execution_count": null,
      "outputs": []
    },
    {
      "cell_type": "code",
      "metadata": {
        "id": "VuWUlhxBxTax"
      },
      "source": [
        ""
      ],
      "execution_count": null,
      "outputs": []
    },
    {
      "cell_type": "code",
      "metadata": {
        "id": "5NPGToy_xTax"
      },
      "source": [
        ""
      ],
      "execution_count": null,
      "outputs": []
    },
    {
      "cell_type": "code",
      "metadata": {
        "id": "Lg7KDjQZxTay"
      },
      "source": [
        ""
      ],
      "execution_count": null,
      "outputs": []
    },
    {
      "cell_type": "code",
      "metadata": {
        "id": "2jYavDewxTay"
      },
      "source": [
        ""
      ],
      "execution_count": null,
      "outputs": []
    },
    {
      "cell_type": "code",
      "metadata": {
        "id": "Iq7wV9ErxTay"
      },
      "source": [
        ""
      ],
      "execution_count": null,
      "outputs": []
    },
    {
      "cell_type": "code",
      "metadata": {
        "id": "aWWm5KiOxTay"
      },
      "source": [
        ""
      ],
      "execution_count": null,
      "outputs": []
    },
    {
      "cell_type": "code",
      "metadata": {
        "id": "K--fVZxWxTaz"
      },
      "source": [
        ""
      ],
      "execution_count": null,
      "outputs": []
    },
    {
      "cell_type": "code",
      "metadata": {
        "id": "4e4jMe1HxTaz"
      },
      "source": [
        ""
      ],
      "execution_count": null,
      "outputs": []
    },
    {
      "cell_type": "code",
      "metadata": {
        "id": "iV4ppEz7xTaz"
      },
      "source": [
        ""
      ],
      "execution_count": null,
      "outputs": []
    },
    {
      "cell_type": "code",
      "metadata": {
        "id": "K2Pwl4EMxTaz"
      },
      "source": [
        ""
      ],
      "execution_count": null,
      "outputs": []
    },
    {
      "cell_type": "code",
      "metadata": {
        "id": "bNHme4IbxTa0"
      },
      "source": [
        ""
      ],
      "execution_count": null,
      "outputs": []
    },
    {
      "cell_type": "code",
      "metadata": {
        "id": "pZE7x4uDxTa0"
      },
      "source": [
        ""
      ],
      "execution_count": null,
      "outputs": []
    },
    {
      "cell_type": "code",
      "metadata": {
        "id": "8RP7_tpTxTa1"
      },
      "source": [
        ""
      ],
      "execution_count": null,
      "outputs": []
    },
    {
      "cell_type": "code",
      "metadata": {
        "id": "yLurCkZwxTa1"
      },
      "source": [
        ""
      ],
      "execution_count": null,
      "outputs": []
    },
    {
      "cell_type": "code",
      "metadata": {
        "id": "d9nJyAg1xTa1"
      },
      "source": [
        ""
      ],
      "execution_count": null,
      "outputs": []
    },
    {
      "cell_type": "code",
      "metadata": {
        "id": "XZXvnmiLxTa2"
      },
      "source": [
        ""
      ],
      "execution_count": null,
      "outputs": []
    },
    {
      "cell_type": "code",
      "metadata": {
        "id": "04jqECO1xTa2"
      },
      "source": [
        ""
      ],
      "execution_count": null,
      "outputs": []
    },
    {
      "cell_type": "code",
      "metadata": {
        "id": "UJBgVSj4xTa3"
      },
      "source": [
        ""
      ],
      "execution_count": null,
      "outputs": []
    },
    {
      "cell_type": "code",
      "metadata": {
        "id": "4je7y8rwxTa3"
      },
      "source": [
        ""
      ],
      "execution_count": null,
      "outputs": []
    },
    {
      "cell_type": "code",
      "metadata": {
        "id": "jzWNL1U4xTa3"
      },
      "source": [
        ""
      ],
      "execution_count": null,
      "outputs": []
    },
    {
      "cell_type": "code",
      "metadata": {
        "id": "xoJQdF4hxTa3"
      },
      "source": [
        ""
      ],
      "execution_count": null,
      "outputs": []
    },
    {
      "cell_type": "code",
      "metadata": {
        "id": "PKFZcm37xTa3"
      },
      "source": [
        ""
      ],
      "execution_count": null,
      "outputs": []
    },
    {
      "cell_type": "code",
      "metadata": {
        "id": "OFGZXMb9xTa4"
      },
      "source": [
        ""
      ],
      "execution_count": null,
      "outputs": []
    },
    {
      "cell_type": "code",
      "metadata": {
        "id": "JltbEMIuxTa4"
      },
      "source": [
        ""
      ],
      "execution_count": null,
      "outputs": []
    },
    {
      "cell_type": "code",
      "metadata": {
        "id": "BHiADmIsxTa4"
      },
      "source": [
        ""
      ],
      "execution_count": null,
      "outputs": []
    },
    {
      "cell_type": "code",
      "metadata": {
        "id": "WKVcPcWgxTa4"
      },
      "source": [
        ""
      ],
      "execution_count": null,
      "outputs": []
    },
    {
      "cell_type": "code",
      "metadata": {
        "id": "0VPSvq7ixTa5"
      },
      "source": [
        ""
      ],
      "execution_count": null,
      "outputs": []
    },
    {
      "cell_type": "code",
      "metadata": {
        "id": "uAS4yg_XxTa5"
      },
      "source": [
        ""
      ],
      "execution_count": null,
      "outputs": []
    },
    {
      "cell_type": "code",
      "metadata": {
        "id": "77S7MvXWxTa5"
      },
      "source": [
        ""
      ],
      "execution_count": null,
      "outputs": []
    },
    {
      "cell_type": "code",
      "metadata": {
        "id": "mx8IVSLfxTa5"
      },
      "source": [
        ""
      ],
      "execution_count": null,
      "outputs": []
    }
  ]
}